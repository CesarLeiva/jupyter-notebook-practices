{
  "nbformat": 4,
  "nbformat_minor": 0,
  "metadata": {
    "colab": {
      "provenance": []
    },
    "kernelspec": {
      "name": "python3",
      "display_name": "Python 3"
    },
    "language_info": {
      "name": "python"
    }
  },
  "cells": [
    {
      "cell_type": "markdown",
      "source": [
        "# requests"
      ],
      "metadata": {
        "id": "kM7_B54xGe53"
      }
    },
    {
      "cell_type": "code",
      "source": [
        "import requests"
      ],
      "metadata": {
        "id": "PUQtZQPZvfuJ"
      },
      "execution_count": null,
      "outputs": []
    },
    {
      "cell_type": "code",
      "source": [
        "latitud = 6.25184\n",
        "longitud = -75.56359\n",
        "fecha = '2002-08-06' # AAAA-MM-DD"
      ],
      "metadata": {
        "id": "YR8r1qPtuu9A"
      },
      "execution_count": null,
      "outputs": []
    },
    {
      "cell_type": "code",
      "execution_count": null,
      "metadata": {
        "id": "BBu6NqBKsuqa"
      },
      "outputs": [],
      "source": [
        "respuesta = requests.get(f'https://api.sunrise-sunset.org/json?lat={latitud}&lng={longitud}&date={fecha}')"
      ]
    },
    {
      "cell_type": "code",
      "source": [
        "datos_respuesta = respuesta.json()\n",
        "datos_respuesta"
      ],
      "metadata": {
        "colab": {
          "base_uri": "https://localhost:8080/"
        },
        "id": "o1V5QLTJwyb5",
        "outputId": "911a848e-69d7-4189-e011-cad2d96f3a0f"
      },
      "execution_count": null,
      "outputs": [
        {
          "output_type": "execute_result",
          "data": {
            "text/plain": [
              "{'results': {'sunrise': '10:56:01 AM',\n",
              "  'sunset': '11:20:13 PM',\n",
              "  'solar_noon': '5:08:07 PM',\n",
              "  'day_length': '12:24:12',\n",
              "  'civil_twilight_begin': '10:35:22 AM',\n",
              "  'civil_twilight_end': '11:40:52 PM',\n",
              "  'nautical_twilight_begin': '10:09:59 AM',\n",
              "  'nautical_twilight_end': '12:06:15 AM',\n",
              "  'astronomical_twilight_begin': '9:44:26 AM',\n",
              "  'astronomical_twilight_end': '12:31:48 AM'},\n",
              " 'status': 'OK',\n",
              " 'tzid': 'UTC'}"
            ]
          },
          "metadata": {},
          "execution_count": 25
        }
      ]
    },
    {
      "cell_type": "code",
      "source": [
        "type(datos_respuesta)\n",
        "datos_respuesta['results']"
      ],
      "metadata": {
        "colab": {
          "base_uri": "https://localhost:8080/"
        },
        "id": "0O10MH8o0Mzc",
        "outputId": "7b04c196-8abe-4d3c-d1df-80cd8f4dcdb7"
      },
      "execution_count": null,
      "outputs": [
        {
          "output_type": "execute_result",
          "data": {
            "text/plain": [
              "{'sunrise': '10:56:01 AM',\n",
              " 'sunset': '11:20:13 PM',\n",
              " 'solar_noon': '5:08:07 PM',\n",
              " 'day_length': '12:24:12',\n",
              " 'civil_twilight_begin': '10:35:22 AM',\n",
              " 'civil_twilight_end': '11:40:52 PM',\n",
              " 'nautical_twilight_begin': '10:09:59 AM',\n",
              " 'nautical_twilight_end': '12:06:15 AM',\n",
              " 'astronomical_twilight_begin': '9:44:26 AM',\n",
              " 'astronomical_twilight_end': '12:31:48 AM'}"
            ]
          },
          "metadata": {},
          "execution_count": 64
        }
      ]
    },
    {
      "cell_type": "code",
      "source": [
        "print('Los elementos son:\\n')\n",
        "for i in datos_respuesta['results']:\n",
        "  print(i)"
      ],
      "metadata": {
        "colab": {
          "base_uri": "https://localhost:8080/"
        },
        "id": "jaBjrpme0_i9",
        "outputId": "7b5d05fb-b2cb-45b5-8a32-f90920fa3f31"
      },
      "execution_count": null,
      "outputs": [
        {
          "output_type": "stream",
          "name": "stdout",
          "text": [
            "Los elementos son:\n",
            "\n",
            "sunrise\n",
            "sunset\n",
            "solar_noon\n",
            "day_length\n",
            "civil_twilight_begin\n",
            "civil_twilight_end\n",
            "nautical_twilight_begin\n",
            "nautical_twilight_end\n",
            "astronomical_twilight_begin\n",
            "astronomical_twilight_end\n"
          ]
        }
      ]
    },
    {
      "cell_type": "markdown",
      "source": [
        "# **BeautifulSoup**\n",
        "\n",
        "---\n",
        "\n"
      ],
      "metadata": {
        "id": "L99wWQjT5zmA"
      }
    },
    {
      "cell_type": "code",
      "source": [
        "from bs4 import BeautifulSoup\n",
        "import requests\n",
        "import re"
      ],
      "metadata": {
        "id": "mGzy9Pbm52Z3"
      },
      "execution_count": null,
      "outputs": []
    },
    {
      "cell_type": "code",
      "source": [
        "url = 'https://scrapepark.org/spanish/'\n",
        "respuesta = requests.get(url)\n",
        "html = respuesta.text\n",
        "\n",
        "sopa = BeautifulSoup(html, 'html.parser')#(variable con la respuesta en .text, método para parsear)"
      ],
      "metadata": {
        "id": "nEX7ILU8ZjWQ"
      },
      "execution_count": null,
      "outputs": []
    },
    {
      "cell_type": "code",
      "source": [
        "x = sopa.find_all(string=re.compile('descuento'))\n",
        "for i in x:\n",
        "  print(i.parent)\n"
      ],
      "metadata": {
        "colab": {
          "base_uri": "https://localhost:8080/"
        },
        "id": "ib0QlnlYavvi",
        "outputId": "7af64f8e-e142-4ab2-da48-de600686a620"
      },
      "execution_count": null,
      "outputs": [
        {
          "output_type": "stream",
          "name": "stdout",
          "text": [
            "<h3>Suscríbete para obtener descuentos y ofertas</h3>\n"
          ]
        }
      ]
    },
    {
      "cell_type": "code",
      "source": [
        "print(sopa.find_all('p', limit=5))#encuentra todos los que tenga la etiqueta ---- método \"find_all\""
      ],
      "metadata": {
        "colab": {
          "base_uri": "https://localhost:8080/"
        },
        "id": "F8UTI6hXbh_I",
        "outputId": "8807cb6c-56ca-4d7a-e378-a0cd4e7869a6"
      },
      "execution_count": null,
      "outputs": [
        {
          "output_type": "stream",
          "name": "stdout",
          "text": [
            "[<p>Aprovechá nuestras ofertas.</p>, <p>Aprovechá nuestras ofertas.</p>, <p>Aprovechá nuestras ofertas.</p>, <p style=\"margin-top: 20px;margin-bottom: 30px;\">¡No te pierdas nuestros últimos productos!</p>, <p class=\"customer-comment\">Los productos me encantaron y los precios son muy buenos. Lo recomiendo.</p>]\n"
          ]
        }
      ]
    },
    {
      "cell_type": "code",
      "source": [
        "for i in sopa.find_all('p', limit=5): #Iterando los elementos con el límite \"limit = 5\"\n",
        "  print(i.text)"
      ],
      "metadata": {
        "colab": {
          "base_uri": "https://localhost:8080/"
        },
        "id": "c_x7Gd3PcNvM",
        "outputId": "b341ef94-2560-445c-d93e-140c497b7a79"
      },
      "execution_count": null,
      "outputs": [
        {
          "output_type": "stream",
          "name": "stdout",
          "text": [
            "Aprovechá nuestras ofertas.\n",
            "Aprovechá nuestras ofertas.\n",
            "Aprovechá nuestras ofertas.\n",
            "¡No te pierdas nuestros últimos productos!\n",
            "Los productos me encantaron y los precios son muy buenos. Lo recomiendo.\n"
          ]
        }
      ]
    },
    {
      "cell_type": "code",
      "source": [
        "for i in sopa.find_all('h2'): #Iterando los elementos usando \"get_text(strip=True)\"\n",
        "  print(i.get_text(strip=True))"
      ],
      "metadata": {
        "colab": {
          "base_uri": "https://localhost:8080/"
        },
        "id": "VDiJs-e3dHlF",
        "outputId": "52c56f05-4443-476d-f7e6-2f4992d21f41"
      },
      "execution_count": null,
      "outputs": [
        {
          "output_type": "stream",
          "name": "stdout",
          "text": [
            "¿Por qué comprar con nosotros?\n",
            "#Novedades\n",
            "Nuestros productos\n",
            "Testimonios de clientes\n",
            "Precios\n"
          ]
        }
      ]
    },
    {
      "cell_type": "markdown",
      "source": [
        "selección por tributos"
      ],
      "metadata": {
        "id": "ZgweEeCSgstw"
      }
    },
    {
      "cell_type": "code",
      "source": [
        "for i in sopa.find_all('div', class_ = 'heading-container heading-center'): #Encontrar por atributo \"class_\"\n",
        "  print(i)"
      ],
      "metadata": {
        "colab": {
          "base_uri": "https://localhost:8080/"
        },
        "id": "4DaKsPt7gvyz",
        "outputId": "71b858fa-8534-413c-bd5c-734c17347f84"
      },
      "execution_count": null,
      "outputs": [
        {
          "output_type": "stream",
          "name": "stdout",
          "text": [
            "<div class=\"heading-container heading-center\" id=\"about\">\n",
            "<h2>¿Por qué comprar con nosotros?</h2>\n",
            "</div>\n",
            "<div class=\"heading-container heading-center\" id=\"products\">\n",
            "<h2>Nuestros productos</h2>\n",
            "</div>\n",
            "<div class=\"heading-container heading-center\">\n",
            "<h3>Suscríbete para obtener descuentos y ofertas</h3>\n",
            "</div>\n",
            "<div class=\"heading-container heading-center\">\n",
            "<h2>Testimonios de clientes</h2>\n",
            "</div>\n"
          ]
        }
      ]
    },
    {
      "cell_type": "code",
      "source": [
        "for i in sopa.find_all(src=True): #Encontrar los que tienen el atributo \"src\"\n",
        "  if i['src'].endswith('.jpg'): #Encontrar los que su src termina en .jpg\n",
        "    print(i)"
      ],
      "metadata": {
        "colab": {
          "base_uri": "https://localhost:8080/"
        },
        "id": "XMWfxKQDlwqG",
        "outputId": "dc415717-78db-4940-8d06-afc88915e9bc"
      },
      "execution_count": null,
      "outputs": [
        {
          "output_type": "stream",
          "name": "stdout",
          "text": [
            "<img alt=\"Parque de patinaje\" src=\"../images/slider-bg.jpg\"/>\n",
            "<img alt=\"Patineta\" src=\"../images/p2.jpg\"/>\n"
          ]
        }
      ]
    },
    {
      "cell_type": "code",
      "source": [
        "for i, imagen in enumerate(sopa.find_all(src=True)): #Encontrar los que tienen el atributo \"src\"\n",
        "  if imagen['src'].endswith('.jpg'): #Encontrar los que su src termina en .jpc\n",
        "    print(imagen['src'])\n",
        "\n",
        "    r=requests.get(f\"https://scrapepark.org/spanish/{imagen['src']}\") #Descargar la imagen\n",
        "    with open(f'imagen_{i}.png','wb') as f:\n",
        "      f.write(r.content)"
      ],
      "metadata": {
        "colab": {
          "base_uri": "https://localhost:8080/"
        },
        "id": "RutGP8swoasa",
        "outputId": "b0b08e58-8ec0-49ed-9484-4de9fa440adc"
      },
      "execution_count": null,
      "outputs": [
        {
          "output_type": "stream",
          "name": "stdout",
          "text": [
            "../images/slider-bg.jpg\n",
            "../images/p2.jpg\n"
          ]
        }
      ]
    },
    {
      "cell_type": "code",
      "source": [
        "url_tabla=sopa.find_all('iframe')[0]['src'] #Se toma la url de un iframe\n",
        "request_tabla = requests.get(f'{url}/{url_tabla}') #se toma el contenido de la url del iframe\n",
        "\n",
        "html_tabla=request_tabla.text #Se guarda el html del contenido\n",
        "tabla = BeautifulSoup(html_tabla, \"html.parser\") #Se transforma ese html con \"html.parser\"\n",
        "\n",
        "faltantes = tabla.find_all(['th','td'], attrs={'style':'color: red;'})#Se busca algo específico de lo extraido, con un atributo\n",
        "for i in faltantes:\n",
        "  print (i.text)"
      ],
      "metadata": {
        "colab": {
          "base_uri": "https://localhost:8080/"
        },
        "id": "A-iuGoTotgXK",
        "outputId": "c8076268-52a7-4f4a-8c1d-1d1f0ff8244f"
      },
      "execution_count": null,
      "outputs": [
        {
          "output_type": "stream",
          "name": "stdout",
          "text": [
            "Longboard\n",
            "$80\n",
            "$85\n",
            "$90\n",
            "$62\n",
            "$150\n"
          ]
        }
      ]
    },
    {
      "cell_type": "code",
      "source": [
        "divs = sopa.find_all('div', class_='detail-box') #crea una variable donde se guarde una parte específica del html guardado en \"sopa\"\n",
        "productos = []\n",
        "precios = []\n",
        "\n",
        "for div in divs:\n",
        "  if(div.h6 is not None) and ('Patineta' in div.h5.text): #Condicional para buscar lo que quiero de la variable con la parte del html\n",
        "    producto = div.h5.get_text(strip=True) # Guardo el texto que quiero en una variable\n",
        "    precio = div.h6.get_text(strip=True).replace('$','') #(strip permite quitar los espacios en blanco si hay)\n",
        "    #(.h5 es para diferenciar que está en un <h5>)\n",
        "\n",
        "    print(f'producto: {producto:<16} | precio: {precio}') #:<16 es para que se muestre con la misma cantidad de cracteres siempre, \"producto\"\n",
        "    productos.append(producto)\n",
        "    precios.append(precio)\n",
        "print('\\n')\n"
      ],
      "metadata": {
        "colab": {
          "base_uri": "https://localhost:8080/"
        },
        "id": "AkhbTM185Ktk",
        "outputId": "120c0384-ea77-4b7a-b288-2dc0b502dbcf"
      },
      "execution_count": null,
      "outputs": [
        {
          "output_type": "stream",
          "name": "stdout",
          "text": [
            "producto: Patineta nueva1  | precio: 75\n",
            "producto: Patineta usada2  | precio: 80\n",
            "producto: Patineta nueva3  | precio: 68\n",
            "producto: Patineta usada4  | precio: 70\n",
            "producto: Patineta nueva5  | precio: 75\n",
            "producto: Patineta nueva6  | precio: 58\n",
            "producto: Patineta nueva7  | precio: 80\n",
            "producto: Patineta nueva8  | precio: 35\n",
            "producto: Patineta nueva9  | precio: 165\n",
            "producto: Patineta usada10 | precio: 54\n",
            "producto: Patineta usada11 | precio: 99\n",
            "producto: Patineta nueva12 | precio: 110\n",
            "\n",
            "\n"
          ]
        }
      ]
    },
    {
      "cell_type": "code",
      "source": [
        "import csv\n",
        "\n",
        "datos_obtenidos = dict(zip(productos, precios))\n",
        "\n",
        "with open('datos_obtenidos.csv', 'w') as f:\n",
        "  w = csv.writer(f)\n",
        "  w.writerows(datos_obtenidos.items())\n"
      ],
      "metadata": {
        "id": "nUC7a7mRLqHY"
      },
      "execution_count": null,
      "outputs": []
    },
    {
      "cell_type": "markdown",
      "source": [
        "https://youtu.be/yKi9-BfbfzQ?t=4314"
      ],
      "metadata": {
        "id": "vvk31gCi81kL"
      }
    },
    {
      "cell_type": "markdown",
      "source": [
        "Para scrappear -> https://www.mercadolibre.com.co/mas-vendidos/MCO1652?new_bestseller_landing=true#origin=pdp"
      ],
      "metadata": {
        "id": "rnaVKmVBRppy"
      }
    }
  ]
}