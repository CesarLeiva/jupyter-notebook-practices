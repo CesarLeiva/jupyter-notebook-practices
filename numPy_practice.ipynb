{
  "nbformat": 4,
  "nbformat_minor": 0,
  "metadata": {
    "colab": {
      "provenance": []
    },
    "kernelspec": {
      "name": "python3",
      "display_name": "Python 3"
    },
    "language_info": {
      "name": "python"
    }
  },
  "cells": [
    {
      "cell_type": "markdown",
      "source": [
        "pip install numpy"
      ],
      "metadata": {
        "id": "jY6kOa_6Aemh"
      }
    },
    {
      "cell_type": "code",
      "source": [
        "import numpy as np"
      ],
      "metadata": {
        "id": "8c3qRTWH_eZi"
      },
      "execution_count": null,
      "outputs": []
    },
    {
      "cell_type": "markdown",
      "source": [
        "# **Arrays**\n"
      ],
      "metadata": {
        "id": "WC4C8Jt58kq-"
      }
    },
    {
      "cell_type": "code",
      "source": [
        "#Se definen los arrays como np.array([a,b,c])\n",
        "\n",
        "arr = np.array([1,2,3,4,5])\n",
        "matrix = np.array([[1,2,3,4,5],[1,2,3,4,5],[1,2,3,4,5]])\n",
        "\n",
        "print('dimensión',matrix.ndim) #ndim permite ver la dimensión del arreglo\n",
        "\n",
        "#print(arr[desde el idex:hasta antes de index])\n",
        "#print(matrix[(dim1,dim2 (si hay)),fila,elemento])\n",
        "\n",
        "for i in matrix:\n",
        "  print(i)"
      ],
      "metadata": {
        "colab": {
          "base_uri": "https://localhost:8080/"
        },
        "id": "iM1XzUw1JryK",
        "outputId": "1556d5b4-5923-4d45-f314-23c55a5287ca"
      },
      "execution_count": null,
      "outputs": [
        {
          "output_type": "stream",
          "name": "stdout",
          "text": [
            "dimensión 2\n",
            "[1 2 3 4 5]\n",
            "[1 2 3 4 5]\n",
            "[1 2 3 4 5]\n"
          ]
        }
      ]
    },
    {
      "cell_type": "code",
      "source": [
        "matrix = np.array([[ [[7,8,9,0],[0,1,2,0]] ], [ [[0,7,8,9],[0,0,1,2]] ], [ [[7,0,8,9],[0,1,0,2]] ]])\n",
        "\n",
        "print(f'{matrix}\\n')\n",
        "print(f'Número de dimensiones {matrix.ndim}',\n",
        "      '\\nprofundidad1: 1\\nprofundidad2: 0\\nfila: 1\\ncolumna: 2',\n",
        "      f'\\nNúmero encontrado en [1,0,1,2]: {matrix[1,0,1,2]}')"
      ],
      "metadata": {
        "colab": {
          "base_uri": "https://localhost:8080/"
        },
        "id": "ShDXNtDjOIUw",
        "outputId": "9fd6a89d-5f08-48fb-d98b-ec7270d855a7"
      },
      "execution_count": null,
      "outputs": [
        {
          "output_type": "stream",
          "name": "stdout",
          "text": [
            "[[[[7 8 9 0]\n",
            "   [0 1 2 0]]]\n",
            "\n",
            "\n",
            " [[[0 7 8 9]\n",
            "   [0 0 1 2]]]\n",
            "\n",
            "\n",
            " [[[7 0 8 9]\n",
            "   [0 1 0 2]]]]\n",
            "\n",
            "Número de dimensiones 4 \n",
            "profundidad1: 1\n",
            "profundidad2: 0\n",
            "fila: 1\n",
            "columna: 2 \n",
            "Número encontrado en [1,0,1,2]: 1\n"
          ]
        }
      ]
    },
    {
      "cell_type": "code",
      "source": [
        "#muestra las dimensiones y la cantidad de elementos de cada una\n",
        "#Va de afuera hacia dentro\n",
        "print(matrix.shape)\n",
        "print(np.shape(matrix))"
      ],
      "metadata": {
        "colab": {
          "base_uri": "https://localhost:8080/"
        },
        "id": "Tgi01jk0TDnN",
        "outputId": "e45d44b9-58a3-4638-f647-0b1920f0be0b"
      },
      "execution_count": null,
      "outputs": [
        {
          "output_type": "stream",
          "name": "stdout",
          "text": [
            "(3, 1, 2, 4)\n",
            "(3, 1, 2, 4)\n"
          ]
        }
      ]
    },
    {
      "cell_type": "code",
      "source": [
        "#reordenar la matriz\n",
        "#debe seguir con la misma cantidad de elementos\n",
        "reshape_matrix = matrix.reshape(2,3,4,1)\n",
        "print(reshape_matrix[0])"
      ],
      "metadata": {
        "colab": {
          "base_uri": "https://localhost:8080/"
        },
        "id": "95DwxunAVDpB",
        "outputId": "3dad9115-d1e3-4b68-ba67-9b0b19a6f61e"
      },
      "execution_count": null,
      "outputs": [
        {
          "output_type": "stream",
          "name": "stdout",
          "text": [
            "[[[7]\n",
            "  [8]\n",
            "  [9]\n",
            "  [0]]\n",
            "\n",
            " [[0]\n",
            "  [1]\n",
            "  [2]\n",
            "  [0]]\n",
            "\n",
            " [[0]\n",
            "  [7]\n",
            "  [8]\n",
            "  [9]]]\n"
          ]
        }
      ]
    },
    {
      "cell_type": "code",
      "source": [
        "#Iterar en los elementos\n",
        "#Debe haber la misma cantidad de for que de dimensiones\n",
        "\n",
        "for dim1 in matrix:\n",
        "  for dim2 in dim1:\n",
        "    for row in dim2:\n",
        "      for element in row:\n",
        "        print(element)"
      ],
      "metadata": {
        "id": "MlxjQUY1XBvG",
        "colab": {
          "base_uri": "https://localhost:8080/"
        },
        "outputId": "0a87d0e7-7946-40d2-8e6b-ada9f0747b17"
      },
      "execution_count": null,
      "outputs": [
        {
          "output_type": "stream",
          "name": "stdout",
          "text": [
            "7\n",
            "8\n",
            "9\n",
            "0\n",
            "0\n",
            "1\n",
            "2\n",
            "0\n",
            "0\n",
            "7\n",
            "8\n",
            "9\n",
            "0\n",
            "0\n",
            "1\n",
            "2\n",
            "7\n",
            "0\n",
            "8\n",
            "9\n",
            "0\n",
            "1\n",
            "0\n",
            "2\n"
          ]
        }
      ]
    },
    {
      "cell_type": "code",
      "source": [
        "#Concatenar arrays\n",
        "arr1=np.array([[1,2,3],[3,2,1]])\n",
        "arr2=np.array([[4,5,6],[6,5,4]])\n",
        "\n",
        "concatenate_axis0 = np.concatenate((arr1, arr2),axis=0)\n",
        "concatenate_axis1 = np.concatenate((arr1, arr2),axis=1)\n",
        "\n",
        "print(concatenate_axis0, '\\nShape', concatenate_axis0.shape,'\\n')\n",
        "print(concatenate_axis1, '\\nShape', concatenate_axis1.shape)\n",
        "\n",
        "#axis concatena según la dimensión que le pongan empezando por 0"
      ],
      "metadata": {
        "colab": {
          "base_uri": "https://localhost:8080/"
        },
        "id": "k_HCJadsaWF7",
        "outputId": "652f18c0-bc68-4266-c520-be60066f41d3"
      },
      "execution_count": null,
      "outputs": [
        {
          "output_type": "stream",
          "name": "stdout",
          "text": [
            "[[1 2 3]\n",
            " [3 2 1]\n",
            " [4 5 6]\n",
            " [6 5 4]] \n",
            "Shape (4, 3) \n",
            "\n",
            "[[1 2 3 4 5 6]\n",
            " [3 2 1 6 5 4]] \n",
            "Shape (2, 6)\n"
          ]
        }
      ]
    },
    {
      "cell_type": "code",
      "source": [
        "#Se reparten los elementos del array de manera uniforme\n",
        "#array_split\n",
        "arr=np.array([1,2,1,4,1,6])\n",
        "print(np.array_split(arr, 2))"
      ],
      "metadata": {
        "colab": {
          "base_uri": "https://localhost:8080/"
        },
        "id": "bNRhyr-Pc_yx",
        "outputId": "2aef9d0e-46dc-4ada-d3cc-e6c7edc1a4e9"
      },
      "execution_count": null,
      "outputs": [
        {
          "output_type": "stream",
          "name": "stdout",
          "text": [
            "[array([1, 2, 1]), array([4, 1, 6])]\n"
          ]
        }
      ]
    },
    {
      "cell_type": "code",
      "source": [
        "#para buscar la posición de un elemento específico\n",
        "arr= np.array([1,2,1,4,10,6])\n",
        "x = np.where(arr == 1)\n",
        "x"
      ],
      "metadata": {
        "colab": {
          "base_uri": "https://localhost:8080/"
        },
        "id": "l8uPsMDPep6z",
        "outputId": "9c61b5d8-a310-402c-b94a-0f470ce35f7c"
      },
      "execution_count": null,
      "outputs": [
        {
          "output_type": "execute_result",
          "data": {
            "text/plain": [
              "(array([0, 2]),)"
            ]
          },
          "metadata": {},
          "execution_count": 47
        }
      ]
    },
    {
      "cell_type": "code",
      "source": [
        "#sort para ordenar\n",
        "\n",
        "print(np.sort(arr))"
      ],
      "metadata": {
        "colab": {
          "base_uri": "https://localhost:8080/"
        },
        "id": "yXJPeU95fy-5",
        "outputId": "cd2b0993-a6e4-43ba-8229-a945d061dfa8"
      },
      "execution_count": null,
      "outputs": [
        {
          "output_type": "stream",
          "name": "stdout",
          "text": [
            "[ 1  1  2  4  6 10]\n",
            "[ 1  1  2  4  6 10]\n"
          ]
        }
      ]
    },
    {
      "cell_type": "markdown",
      "source": [
        "# **Random**"
      ],
      "metadata": {
        "id": "OzQ6VkYz83d_"
      }
    },
    {
      "cell_type": "code",
      "source": [
        "from numpy import random"
      ],
      "metadata": {
        "id": "jVC85kyQ8fqp"
      },
      "execution_count": null,
      "outputs": []
    },
    {
      "cell_type": "code",
      "source": [
        "#randint genera números enteros aleatoreos en un rango específico y puede hacer arreglos de diferentes dimensiones\n",
        "\n",
        "num = random.randint(5,11, size=(2,3,4))\n",
        "num"
      ],
      "metadata": {
        "colab": {
          "base_uri": "https://localhost:8080/"
        },
        "id": "jshyPFvt9MTG",
        "outputId": "e3df91f3-bd5b-4361-8002-06ce18d1e334"
      },
      "execution_count": null,
      "outputs": [
        {
          "output_type": "execute_result",
          "data": {
            "text/plain": [
              "array([[[ 9,  5, 10, 10],\n",
              "        [ 8,  5,  7,  6],\n",
              "        [ 6,  8, 10, 10]],\n",
              "\n",
              "       [[ 5,  8,  6,  9],\n",
              "        [ 6,  5,  7,  6],\n",
              "        [ 9,  8,  7,  5]]])"
            ]
          },
          "metadata": {},
          "execution_count": 54
        }
      ]
    },
    {
      "cell_type": "code",
      "source": [
        "# rand genera decimales entre el 0 y el 1 y los puede meter en arrays de varias dimensiones desde la exterior hasta la interior\n",
        "#round permite definir la cantidad de números después de la coma round(num,n) o num.round(n) donde n es es la cantidad de decimales\n",
        "\n",
        "num_random= random.rand(2,3,10).round(2)\n",
        "num_random"
      ],
      "metadata": {
        "colab": {
          "base_uri": "https://localhost:8080/"
        },
        "id": "v_cQ3DhB92HO",
        "outputId": "73879f9e-c312-4743-db1f-89fa629cc68f"
      },
      "execution_count": null,
      "outputs": [
        {
          "output_type": "execute_result",
          "data": {
            "text/plain": [
              "array([[[0.7 , 0.16, 0.59, 0.14, 0.18, 0.89, 0.27, 0.86, 0.86, 0.75],\n",
              "        [0.78, 0.52, 0.34, 0.94, 0.38, 0.66, 0.91, 0.67, 0.64, 0.42],\n",
              "        [0.29, 0.41, 0.64, 0.29, 0.71, 0.57, 0.09, 0.48, 0.6 , 0.5 ]],\n",
              "\n",
              "       [[0.02, 0.77, 0.09, 0.58, 0.54, 0.59, 0.89, 0.62, 0.79, 0.28],\n",
              "        [0.  , 0.02, 0.63, 0.34, 0.64, 0.86, 0.2 , 1.  , 0.81, 0.28],\n",
              "        [0.41, 0.47, 0.42, 0.69, 0.67, 0.28, 0.65, 0.94, 0.54, 0.28]]])"
            ]
          },
          "metadata": {},
          "execution_count": 194
        }
      ]
    },
    {
      "cell_type": "code",
      "source": [
        "#random.choice se usa para eligir aleatoriamente o varios números, dento de una cadena y\n",
        "# hacer un array con los números elegidos de cuantas dimensiones quiera\n",
        "\n",
        "choices = random.choice(num_random[random.randint(2)][random.randint(3)], size=(3))\n",
        "\n",
        "for i in choices:\n",
        "  print('\\nNúmeros elegidos', i,'\\nPosición en el array',np.where(num_random==i))\n"
      ],
      "metadata": {
        "colab": {
          "base_uri": "https://localhost:8080/"
        },
        "id": "s9wxSwobCA3N",
        "outputId": "df2de11b-ec74-4869-f5f9-099117e3888e"
      },
      "execution_count": null,
      "outputs": [
        {
          "output_type": "stream",
          "name": "stdout",
          "text": [
            "\n",
            "Números elegidos 0.94 \n",
            "Posición en el array (array([0, 1]), array([1, 2]), array([3, 7]))\n",
            "\n",
            "Números elegidos 0.34 \n",
            "Posición en el array (array([0, 1]), array([1, 1]), array([2, 3]))\n",
            "\n",
            "Números elegidos 0.52 \n",
            "Posición en el array (array([0]), array([1]), array([1]))\n"
          ]
        }
      ]
    },
    {
      "cell_type": "markdown",
      "source": [
        "# **Otras funciones de numpy**"
      ],
      "metadata": {
        "id": "zQxoZ9MLO5iW"
      }
    },
    {
      "cell_type": "code",
      "source": [
        "print(np.arange(3,10, 3), '-> Números del 3 al 9 en intérvalos de 3 (3,10,3)') #np.arange() Crea un arreglo de números (desde, hasta antes de, cada)"
      ],
      "metadata": {
        "colab": {
          "base_uri": "https://localhost:8080/"
        },
        "id": "vYW0VWUkKkyJ",
        "outputId": "ea21a246-9de4-4c58-cd60-71aabcbe7e61"
      },
      "execution_count": null,
      "outputs": [
        {
          "output_type": "stream",
          "name": "stdout",
          "text": [
            "[3 6 9] -> Números del 3 al 9 en intérvalos de 3 (3,10,3)\n"
          ]
        }
      ]
    },
    {
      "cell_type": "code",
      "source": [
        "#print(np.linspace(2, 10, 5)) #No entiendo el linespace"
      ],
      "metadata": {
        "id": "2cos67EqO0Bo"
      },
      "execution_count": null,
      "outputs": []
    },
    {
      "cell_type": "code",
      "source": [
        "print(np.zeros(5)) # devuelve un arreglo lleno de 0\n",
        "print(np.ones(5)) # devuelve un arreglo lleno de 1"
      ],
      "metadata": {
        "colab": {
          "base_uri": "https://localhost:8080/"
        },
        "id": "JyY-3k2WOwAo",
        "outputId": "943cb100-d1c4-413a-cc76-133afdc6e62a"
      },
      "execution_count": null,
      "outputs": [
        {
          "output_type": "stream",
          "name": "stdout",
          "text": [
            "[0. 0. 0. 0. 0.]\n",
            "[1. 1. 1. 1. 1.]\n"
          ]
        }
      ]
    },
    {
      "cell_type": "code",
      "source": [
        "print(np.eye(3,4,1)) #crea una matriz de identidad (n filas, n columnas, donde empiezam los 1)"
      ],
      "metadata": {
        "colab": {
          "base_uri": "https://localhost:8080/"
        },
        "id": "Hbxuk2vtOwoM",
        "outputId": "856c9fc8-e424-404d-8273-2ae04d97cf5d"
      },
      "execution_count": null,
      "outputs": [
        {
          "output_type": "stream",
          "name": "stdout",
          "text": [
            "[[0. 1. 0. 0.]\n",
            " [0. 0. 1. 0.]\n",
            " [0. 0. 0. 1.]]\n"
          ]
        }
      ]
    },
    {
      "cell_type": "code",
      "source": [
        "lista=np.array([1, 2, 3, 4, 5])\n",
        "print('max',lista.max(), '\\nmin',min(lista)) #max() y min() para ver el mayor y el menor elemento de una lista\n",
        "'index min',lista.argmin()"
      ],
      "metadata": {
        "colab": {
          "base_uri": "https://localhost:8080/"
        },
        "id": "oV-p9QG4O_xY",
        "outputId": "fec0a0d4-a138-46a0-c04b-0ce439a7bd08"
      },
      "execution_count": null,
      "outputs": [
        {
          "output_type": "stream",
          "name": "stdout",
          "text": [
            "max 5 \n",
            "min 1\n"
          ]
        },
        {
          "output_type": "execute_result",
          "data": {
            "text/plain": [
              "('index min', 0)"
            ]
          },
          "metadata": {},
          "execution_count": 27
        }
      ]
    },
    {
      "cell_type": "code",
      "source": [
        "arr=np.array([5,6,7,8,9])\n",
        "\n",
        "print(lista, arr)#los 2 arreglos definidos\n",
        "print(lista - arr)#resta de arreglos elemento por elemento\n",
        "print(arr + lista)#suma de arreglos elemento por elemento\n",
        "print(arr + 10)#le suma 10 a cada elemento\n",
        "print(arr - 10)#le resta 10 a cada elemento\n",
        "print(arr * 2)#multiplica por 2 cada elemento\n",
        "print(arr / 2)#divide entre 2 cada elemento"
      ],
      "metadata": {
        "colab": {
          "base_uri": "https://localhost:8080/"
        },
        "id": "pXFBLgBRTDxQ",
        "outputId": "cc259af4-5ecf-4e57-9222-8a82cc5f502b"
      },
      "execution_count": null,
      "outputs": [
        {
          "output_type": "stream",
          "name": "stdout",
          "text": [
            "[1 2 3 4 5] [5 6 7 8 9]\n",
            "[-4 -4 -4 -4 -4]\n",
            "[ 6  8 10 12 14]\n",
            "[15 16 17 18 19]\n",
            "[-5 -4 -3 -2 -1]\n",
            "[10 12 14 16 18]\n",
            "[2.5 3.  3.5 4.  4.5]\n"
          ]
        }
      ]
    },
    {
      "cell_type": "code",
      "source": [
        "print((arr))#arreglo base\n",
        "print(np.sqrt(arr))#raiz cuadrada de cada elemento\n",
        "print(np.exp(arr))#arreglo a la e\n",
        "print(np.sin(arr))#seno de cada elemento\n",
        "print(np.cos(arr))#coseno de cada elemento\n",
        "print(np.tan(arr))#tangente de cada elemento\n",
        "print(np.log(arr))#log en base 10 de cada elemento"
      ],
      "metadata": {
        "colab": {
          "base_uri": "https://localhost:8080/"
        },
        "id": "125F65R_VjQ7",
        "outputId": "b2966bd4-d36c-4597-e1d0-c44f80538aec"
      },
      "execution_count": null,
      "outputs": [
        {
          "output_type": "stream",
          "name": "stdout",
          "text": [
            "[5 6 7 8 9]\n",
            "[2.23606798 2.44948974 2.64575131 2.82842712 3.        ]\n",
            "[ 148.4131591   403.42879349 1096.63315843 2980.95798704 8103.08392758]\n",
            "[-0.95892427 -0.2794155   0.6569866   0.98935825  0.41211849]\n",
            "[ 0.28366219  0.96017029  0.75390225 -0.14550003 -0.91113026]\n",
            "[-3.38051501 -0.29100619  0.87144798 -6.79971146 -0.45231566]\n",
            "[1.60943791 1.79175947 1.94591015 2.07944154 2.19722458]\n"
          ]
        }
      ]
    },
    {
      "cell_type": "code",
      "source": [
        "arr[:len(arr)] #Muestra los elementos (desde: hasta antes del)"
      ],
      "metadata": {
        "colab": {
          "base_uri": "https://localhost:8080/"
        },
        "id": "o4C0CMwVYRXE",
        "outputId": "1b47a6c9-d434-4e44-f052-bc447d010301"
      },
      "execution_count": null,
      "outputs": [
        {
          "output_type": "execute_result",
          "data": {
            "text/plain": [
              "array([5, 6, 7, 8, 9])"
            ]
          },
          "metadata": {},
          "execution_count": 426
        }
      ]
    },
    {
      "cell_type": "code",
      "source": [
        "new_arr = arr.copy() #.copy() sirve para copiar un arreglo y ponerlo en otro\n",
        "new_arr"
      ],
      "metadata": {
        "colab": {
          "base_uri": "https://localhost:8080/"
        },
        "id": "-Y2lBdVDYv6t",
        "outputId": "09e492bc-96fd-441e-f117-b5ca500203dd"
      },
      "execution_count": null,
      "outputs": [
        {
          "output_type": "execute_result",
          "data": {
            "text/plain": [
              "array([5, 6, 7, 8, 9])"
            ]
          },
          "metadata": {},
          "execution_count": 435
        }
      ]
    },
    {
      "cell_type": "code",
      "source": [
        "print(arr % 2 == 0) #Hacer un condicional con los valores del arreglo que devuelve False o true según la condición y el elemento\n",
        "\n",
        "print(arr[arr % 2 == 1]) #Devuelve un arreglo con los elemmentos que cumplen con la condición"
      ],
      "metadata": {
        "colab": {
          "base_uri": "https://localhost:8080/"
        },
        "id": "mG5BLXXscF2U",
        "outputId": "91ccda3d-ed1e-4075-d198-3a70e146f009"
      },
      "execution_count": null,
      "outputs": [
        {
          "output_type": "stream",
          "name": "stdout",
          "text": [
            "[False  True False  True False]\n",
            "[5 7 9]\n"
          ]
        }
      ]
    },
    {
      "cell_type": "code",
      "source": [
        "print('\\nMatriz de dimensión 1 \\n',np.array([1,2,3,4]) ,'\\n________________________')\n",
        "print('\\nMatriz de dimensión 2 \\n',np.array([[1,2,3,4],[5,6,7,8]]) ,'\\n________________________')\n",
        "print('\\nMatriz de dimensión 3 \\n',np.array([[[1,2,3,4],[5,6,7,8]], [[1,2,3,4],[5,6,7,8]]]) ,'\\n________________________')\n",
        "print('\\nMatriz de dimensión 4 \\n',np.array([[[[1,2,3,4],[5,6,7,8]], [[1,2,3,4],[5,6,7,8]]],[[[1,2,3,4],[5,6,7,8]], [[1,2,3,4],[5,6,7,8]]]]) ,'\\n________________________')\n"
      ],
      "metadata": {
        "colab": {
          "base_uri": "https://localhost:8080/"
        },
        "id": "KsYOCvth-hFN",
        "outputId": "95a5b3a2-c1fb-498e-af54-dac39dd65a5e"
      },
      "execution_count": null,
      "outputs": [
        {
          "output_type": "stream",
          "name": "stdout",
          "text": [
            "\n",
            "Matriz de dimensión 1 \n",
            " [1 2 3 4] \n",
            "________________________\n",
            "\n",
            "Matriz de dimensión 2 \n",
            " [[1 2 3 4]\n",
            " [5 6 7 8]] \n",
            "________________________\n",
            "\n",
            "Matriz de dimensión 3 \n",
            " [[[1 2 3 4]\n",
            "  [5 6 7 8]]\n",
            "\n",
            " [[1 2 3 4]\n",
            "  [5 6 7 8]]] \n",
            "________________________\n",
            "\n",
            "Matriz de dimensión 4 \n",
            " [[[[1 2 3 4]\n",
            "   [5 6 7 8]]\n",
            "\n",
            "  [[1 2 3 4]\n",
            "   [5 6 7 8]]]\n",
            "\n",
            "\n",
            " [[[1 2 3 4]\n",
            "   [5 6 7 8]]\n",
            "\n",
            "  [[1 2 3 4]\n",
            "   [5 6 7 8]]]] \n",
            "________________________\n"
          ]
        }
      ]
    },
    {
      "cell_type": "code",
      "source": [
        "import numpy as np\n",
        "\n",
        "def calculate(list):\n",
        "    if len(list) != 9:\n",
        "        raise ValueError(\"List must contain nine numbers.\")\n",
        "\n",
        "    else:\n",
        "        list = np.array(list).reshape(3,3)\n",
        "        t_list = np.transpose(list)\n",
        "        calculations = {\n",
        "            'mean': [[np.mean(t_list[0]), np.mean(t_list[1]), np.mean(t_list[2])], [np.mean(list[0]), np.mean(list[1]), np.mean(list[2])], np.mean(list)],\n",
        "            'variance': [[np.var(t_list[0]), np.var(t_list[1]), np.var(t_list[2])], [np.var(list[0]), np.var(list[1]), np.var(list[2])], np.var(list)],\n",
        "            'standard deviation': [[np.std(t_list[0]), np.std(t_list[1]), np.std(t_list[2])], [np.std(list[0]), np.std(list[1]), np.std(list[2])], np.std(list)],\n",
        "            'max': [[np.max(t_list[0]), np.max(t_list[1]), np.max(t_list[2])], [np.max(list[0]), np.max(list[1]), np.max(list[2])], np.max(list)],\n",
        "            'min': [[np.min(t_list[0]), np.min(t_list[1]), np.min(t_list[2])], [np.min(list[0]), np.min(list[1]), np.min(list[2])], np.min(list)],\n",
        "            'sum': [[np.sum(t_list[0]), np.sum(t_list[1]), np.sum(t_list[2])], [np.sum(list[0]), np.sum(list[1]), np.sum(list[2])], np.sum(list)]\n",
        "        }\n",
        "    return calculations"
      ],
      "metadata": {
        "id": "Y4B1RHB_pTlE"
      },
      "execution_count": null,
      "outputs": []
    },
    {
      "cell_type": "code",
      "source": [
        "calculate([2,6,2,8,4,0,1,5,7])"
      ],
      "metadata": {
        "colab": {
          "base_uri": "https://localhost:8080/"
        },
        "id": "eRCzsOGIELIS",
        "outputId": "8f941565-4fb9-4cc9-81ba-fd1e5f4a11e0"
      },
      "execution_count": null,
      "outputs": [
        {
          "output_type": "execute_result",
          "data": {
            "text/plain": [
              "{'mean': [[3.6666666666666665, 5.0, 3.0],\n",
              "  [3.3333333333333335, 4.0, 4.333333333333333],\n",
              "  3.888888888888889],\n",
              " 'variance': [[9.555555555555557, 0.6666666666666666, 8.666666666666666],\n",
              "  [3.555555555555556, 10.666666666666666, 6.222222222222221],\n",
              "  6.987654320987654],\n",
              " 'standard deviation': [[3.091206165165235,\n",
              "   0.816496580927726,\n",
              "   2.943920288775949],\n",
              "  [1.8856180831641267, 3.265986323710904, 2.494438257849294],\n",
              "  2.6434171674156266],\n",
              " 'max': [[8, 6, 7], [6, 8, 7], 8],\n",
              " 'min': [[1, 4, 0], [2, 0, 1], 0],\n",
              " 'sum': [[11, 15, 9], [10, 12, 13], 35]}"
            ]
          },
          "metadata": {},
          "execution_count": 90
        }
      ]
    }
  ]
}