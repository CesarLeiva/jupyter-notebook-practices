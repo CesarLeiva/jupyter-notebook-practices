{
  "nbformat": 4,
  "nbformat_minor": 0,
  "metadata": {
    "colab": {
      "provenance": []
    },
    "kernelspec": {
      "name": "python3",
      "display_name": "Python 3"
    },
    "language_info": {
      "name": "python"
    }
  },
  "cells": [
    {
      "cell_type": "code",
      "execution_count": null,
      "metadata": {
        "id": "FGgid3-aUYZp"
      },
      "outputs": [],
      "source": [
        "from bs4 import BeautifulSoup\n",
        "import requests"
      ]
    },
    {
      "cell_type": "code",
      "source": [
        "url = 'https://www.mercadolibre.com.co/mas-vendidos/MCO5072?attribute_id=BRAND&attribute_value_id=59387&new_bestseller_landing=true'\n",
        "\n",
        "request = requests.get(url)\n",
        "html = request.text\n",
        "beauty_html = BeautifulSoup(html, 'html.parser')"
      ],
      "metadata": {
        "id": "SCRuO3lYVlmC"
      },
      "execution_count": null,
      "outputs": []
    },
    {
      "cell_type": "code",
      "source": [
        "#Top Products\n",
        "top_products=[]\n",
        "for i in beauty_html.find_all(class_='ui-recommendations-card__highlight-deal'):\n",
        "  print(i.get_text(strip=True))\n",
        "  top_products.append(i.get_text(strip=True))"
      ],
      "metadata": {
        "colab": {
          "base_uri": "https://localhost:8080/"
        },
        "id": "Yul9ONpSgLtP",
        "outputId": "6b650121-436f-4ced-a80d-b16375bcacf9"
      },
      "execution_count": null,
      "outputs": [
        {
          "output_type": "stream",
          "name": "stdout",
          "text": [
            "1º MÁS VENDIDO\n",
            "2º MÁS VENDIDO\n",
            "3º MÁS VENDIDO\n",
            "4º MÁS VENDIDO\n",
            "5º MÁS VENDIDO\n",
            "6º MÁS VENDIDO\n",
            "7º MÁS VENDIDO\n",
            "8º MÁS VENDIDO\n",
            "9º MÁS VENDIDO\n",
            "10º MÁS VENDIDO\n",
            "11º MÁS VENDIDO\n",
            "12º MÁS VENDIDO\n",
            "13º MÁS VENDIDO\n"
          ]
        }
      ]
    },
    {
      "cell_type": "code",
      "source": [
        "#Product names\n",
        "product_names=[]\n",
        "for i in beauty_html.find_all(class_='ui-recommendations-card__title'):\n",
        "  print(i.get_text(strip=True))\n",
        "  product_names.append(i.get_text(strip=True))"
      ],
      "metadata": {
        "colab": {
          "base_uri": "https://localhost:8080/"
        },
        "id": "lFtLfSzYuhf_",
        "outputId": "26cba5cb-1371-4846-d475-7e56f3295e97"
      },
      "execution_count": null,
      "outputs": [
        {
          "output_type": "stream",
          "name": "stdout",
          "text": [
            "Audifonos Xiaomi Redmi Buds 4 Lite Bluetooth 5.3 Negro\n",
            "Audífonos Xiaomi Redmi Buds 5 Pro Midnight Black Color Negro\n",
            "Audífonos Inalámbricos Redmi Buds 4 Lite Bluetooth 5.3 Color Blanco\n",
            "Audífonos Manos Libres Inalámbricos Redmi Buds 4 Lite Color Blanco\n",
            "Xiaomi Redmi Buds 4 Audífonos Inálambricos Color Negro\n",
            "Audífonos Inalámbricos Xiaomi Redmi Buds 4 Lite Bt 5.3 Color Negro\n",
            "Audífonos Inalámbricos Xiaomi Redmi Buds 4 Lite Negros\n",
            "Audífonos In-ear Xiaomi Mi Capsule Earphones\n",
            "Audífonos Inalámbricos Xiaomi Redmi Buds 3 Lite Negro Global\n",
            "Audífonos in-ear gamer Xiaomi Mi Piston Basic Edition HSEJ02JY negro\n",
            "Auriculares Xiaomi Mi Dual Dynamic Driver 3.5mm Jack C/mic\n",
            "Audífonos in-ear inalámbricos Xiaomi Redmi Buds 4 lite BHR6919GL blanco\n",
            "Audífonos Xiaomi Redmi Buds 5 Pro Moonlight White Color Blanco\n"
          ]
        }
      ]
    },
    {
      "cell_type": "code",
      "source": [
        "#Product links\n",
        "product_links=[]\n",
        "for i in beauty_html.find_all(class_='ui-recommendations-card__title'):\n",
        "  print(i.a['href'])\n",
        "  product_links.append(i.a['href'])"
      ],
      "metadata": {
        "colab": {
          "base_uri": "https://localhost:8080/"
        },
        "id": "hrx4FkC8vPx6",
        "outputId": "07693a3c-e4b2-4fa9-ec2c-e42ea697da46"
      },
      "execution_count": null,
      "outputs": [
        {
          "output_type": "stream",
          "name": "stdout",
          "text": [
            "https://www.mercadolibre.com.co/audifonos-xiaomi-redmi-buds-4-lite-bluetooth-53-negro/p/MCO24791872#reco_item_pos=0&reco_backend=best-seller&reco_backend_type=low_level&reco_client=highlights-rankings&reco_id=38463b61-fee4-40d8-bd53-99a872804ea1\n",
            "https://www.mercadolibre.com.co/audifonos-xiaomi-redmi-buds-5-pro-midnight-black-color-negro/p/MCO29546296#reco_item_pos=1&reco_backend=best-seller&reco_backend_type=low_level&reco_client=highlights-rankings&reco_id=38463b61-fee4-40d8-bd53-99a872804ea1\n",
            "https://www.mercadolibre.com.co/audifonos-inalambricos-redmi-buds-4-lite-bluetooth-53-color-blanco/p/MCO25881463#reco_item_pos=2&reco_backend=best-seller&reco_backend_type=low_level&reco_client=highlights-rankings&reco_id=38463b61-fee4-40d8-bd53-99a872804ea1\n",
            "https://www.mercadolibre.com.co/audifonos-manos-libres-inalambricos-redmi-buds-4-lite-color-blanco/p/MCO25939826#reco_item_pos=3&reco_backend=best-seller&reco_backend_type=low_level&reco_client=highlights-rankings&reco_id=38463b61-fee4-40d8-bd53-99a872804ea1\n",
            "https://www.mercadolibre.com.co/xiaomi-redmi-buds-4-audifonos-inalambricos-color-negro/p/MCO27858220#reco_item_pos=4&reco_backend=best-seller&reco_backend_type=low_level&reco_client=highlights-rankings&reco_id=38463b61-fee4-40d8-bd53-99a872804ea1\n",
            "https://www.mercadolibre.com.co/audifonos-inalambricos-xiaomi-redmi-buds-4-lite-bt-53-color-negro/p/MCO24730108#reco_item_pos=5&reco_backend=best-seller&reco_backend_type=low_level&reco_client=highlights-rankings&reco_id=38463b61-fee4-40d8-bd53-99a872804ea1\n",
            "https://articulo.mercadolibre.com.co/MCO-1294196595-audifonos-inalambricos-xiaomi-redmi-buds-4-lite-negros-_JM?variation=177684093662#reco_item_pos=6&reco_backend=best-seller&reco_backend_type=low_level&reco_client=highlights-rankings&reco_id=38463b61-fee4-40d8-bd53-99a872804ea1\n",
            "https://www.mercadolibre.com.co/audifonos-in-ear-xiaomi-mi-capsule-earphones/p/MCO19791849#reco_item_pos=7&reco_backend=best-seller&reco_backend_type=low_level&reco_client=highlights-rankings&reco_id=38463b61-fee4-40d8-bd53-99a872804ea1\n",
            "https://articulo.mercadolibre.com.co/MCO-2060238352-audifonos-inalambricos-xiaomi-redmi-buds-3-lite-negro-global-_JM?variation=180854058533#reco_item_pos=8&reco_backend=best-seller&reco_backend_type=low_level&reco_client=highlights-rankings&reco_id=38463b61-fee4-40d8-bd53-99a872804ea1\n",
            "https://www.mercadolibre.com.co/audifonos-in-ear-gamer-xiaomi-mi-piston-basic-edition-hsej02jy-negro/p/MCO15295961#reco_item_pos=9&reco_backend=best-seller&reco_backend_type=low_level&reco_client=highlights-rankings&reco_id=38463b61-fee4-40d8-bd53-99a872804ea1\n",
            "https://www.mercadolibre.com.co/auriculares-xiaomi-mi-dual-dynamic-driver-35mm-jack-cmic/p/MCO20878024#reco_item_pos=10&reco_backend=best-seller&reco_backend_type=low_level&reco_client=highlights-rankings&reco_id=38463b61-fee4-40d8-bd53-99a872804ea1\n",
            "https://www.mercadolibre.com.co/audifonos-in-ear-inalambricos-xiaomi-redmi-buds-4-lite-bhr6919gl-blanco/p/MCO27701407#reco_item_pos=11&reco_backend=best-seller&reco_backend_type=low_level&reco_client=highlights-rankings&reco_id=38463b61-fee4-40d8-bd53-99a872804ea1\n",
            "https://www.mercadolibre.com.co/audifonos-xiaomi-redmi-buds-5-pro-moonlight-white-color-blanco/p/MCO29573054#reco_item_pos=12&reco_backend=best-seller&reco_backend_type=low_level&reco_client=highlights-rankings&reco_id=38463b61-fee4-40d8-bd53-99a872804ea1\n"
          ]
        }
      ]
    },
    {
      "cell_type": "code",
      "source": [
        "#Product prices\n",
        "product_prices=[]\n",
        "for i in beauty_html.find_all(class_='andes-money-amount ui-recommendations-card__price andes-money-amount--cents-superscript andes-money-amount--compact'):\n",
        "  print(i.text.replace('$',''))\n",
        "  product_prices.append(i.text.replace('$',''))"
      ],
      "metadata": {
        "colab": {
          "base_uri": "https://localhost:8080/"
        },
        "id": "_b6YjfXtzWZF",
        "outputId": "65647205-d346-477a-aedb-036acbbba8c2"
      },
      "execution_count": null,
      "outputs": [
        {
          "output_type": "stream",
          "name": "stdout",
          "text": [
            "64.320\n",
            "279.995\n",
            "74.510\n",
            "67.802\n",
            "136.170\n",
            "76.494\n",
            "104.917\n",
            "44.890\n",
            "99.792\n",
            "16.672\n",
            "63.656\n",
            "90.424\n",
            "299.840\n"
          ]
        }
      ]
    },
    {
      "cell_type": "code",
      "source": [
        "for i in range(len(top_products)):\n",
        "  print(f'Top {i+1}: {product_names[i]}\\nPrecio: {product_prices[i]}\\n')"
      ],
      "metadata": {
        "colab": {
          "base_uri": "https://localhost:8080/"
        },
        "id": "FZliFcmW4Uaq",
        "outputId": "61e8f85c-0e55-4b1d-84de-2a2eaba418db"
      },
      "execution_count": null,
      "outputs": [
        {
          "output_type": "stream",
          "name": "stdout",
          "text": [
            "Top 1: Audifonos Xiaomi Redmi Buds 4 Lite Bluetooth 5.3 Negro\n",
            "Precio: 64.320\n",
            "\n",
            "Top 2: Audífonos Xiaomi Redmi Buds 5 Pro Midnight Black Color Negro\n",
            "Precio: 279.995\n",
            "\n",
            "Top 3: Audífonos Inalámbricos Redmi Buds 4 Lite Bluetooth 5.3 Color Blanco\n",
            "Precio: 74.510\n",
            "\n",
            "Top 4: Audífonos Manos Libres Inalámbricos Redmi Buds 4 Lite Color Blanco\n",
            "Precio: 67.802\n",
            "\n",
            "Top 5: Xiaomi Redmi Buds 4 Audífonos Inálambricos Color Negro\n",
            "Precio: 136.170\n",
            "\n",
            "Top 6: Audífonos Inalámbricos Xiaomi Redmi Buds 4 Lite Bt 5.3 Color Negro\n",
            "Precio: 76.494\n",
            "\n",
            "Top 7: Audífonos Inalámbricos Xiaomi Redmi Buds 4 Lite Negros\n",
            "Precio: 104.917\n",
            "\n",
            "Top 8: Audífonos In-ear Xiaomi Mi Capsule Earphones\n",
            "Precio: 44.890\n",
            "\n",
            "Top 9: Audífonos Inalámbricos Xiaomi Redmi Buds 3 Lite Negro Global\n",
            "Precio: 99.792\n",
            "\n",
            "Top 10: Audífonos in-ear gamer Xiaomi Mi Piston Basic Edition HSEJ02JY negro\n",
            "Precio: 16.672\n",
            "\n",
            "Top 11: Auriculares Xiaomi Mi Dual Dynamic Driver 3.5mm Jack C/mic\n",
            "Precio: 63.656\n",
            "\n",
            "Top 12: Audífonos in-ear inalámbricos Xiaomi Redmi Buds 4 lite BHR6919GL blanco\n",
            "Precio: 90.424\n",
            "\n",
            "Top 13: Audífonos Xiaomi Redmi Buds 5 Pro Moonlight White Color Blanco\n",
            "Precio: 299.840\n",
            "\n"
          ]
        }
      ]
    },
    {
      "cell_type": "code",
      "source": [
        "beauty_html.find_all('span')"
      ],
      "metadata": {
        "colab": {
          "base_uri": "https://localhost:8080/"
        },
        "id": "kPGD9wJ8Bdp2",
        "outputId": "0db70aae-041e-4ac5-9a4f-09b655b5b89b"
      },
      "execution_count": null,
      "outputs": [
        {
          "output_type": "execute_result",
          "data": {
            "text/plain": [
              "[<span class=\"nav-skip-to-main-content__content\">Saltar al contenido</span>,\n",
              " <span class=\"nav-a11y-feedback-link__content\">Comentar sobre accesibilidad</span>,\n",
              " <span class=\"nav-menu-link-cp\"> Ingresa tu domicilio</span>,\n",
              " <span class=\"nav-menu-link-cp\"> Ingresa tu domicilio</span>,\n",
              " <span class=\"nav-link-tag nav-link-tag--small supermercado\">Nuevo</span>,\n",
              " <span class=\"nav-header-visually-hidden\">0 productos en tu carrito</span>,\n",
              " <span class=\"nav-icon-cart-quantity\"></span>,\n",
              " <span itemprop=\"name\">Celulares y Teléfonos</span>,\n",
              " <span itemprop=\"name\">Accesorios para Celulares</span>,\n",
              " <span itemprop=\"name\">Auriculares y Manos Libres</span>,\n",
              " <span class=\"ui-search-filter-name\">1Hora</span>,\n",
              " <span class=\"ui-search-filter-name\">Genérica</span>,\n",
              " <span class=\"ui-search-filter-name\">Huawei</span>,\n",
              " <span class=\"ui-search-filter-name\">Lenovo</span>,\n",
              " <span class=\"ui-search-filter-name\">Samsung</span>,\n",
              " <span class=\"ui-search-filter-name\">Xiaomi</span>,\n",
              " <span class=\"ui-recommendations-card__pill\" style=\"font-size:12px;font-weight:600;font-style:normal;color:#FFFFFF;background:#FF7733\">1º MÁS VENDIDO</span>,\n",
              " <span aria-label=\"63052 pesos\" aria-roledescription=\"Precio\" class=\"andes-money-amount ui-recommendations-card__price andes-money-amount--cents-superscript andes-money-amount--compact\" role=\"img\" style=\"font-size:24px\"><span aria-hidden=\"true\" class=\"andes-money-amount__currency-symbol\">$</span><span aria-hidden=\"true\" class=\"andes-money-amount__fraction\">63.052</span></span>,\n",
              " <span aria-hidden=\"true\" class=\"andes-money-amount__currency-symbol\">$</span>,\n",
              " <span aria-hidden=\"true\" class=\"andes-money-amount__fraction\">63.052</span>,\n",
              " <span class=\"ui-recommendations-card__installments\"><span class=\"ui-recommendations-card__installments-original-price\"></span><span class=\"ui-recommendations-card__installments-price\"><span class=\"ui-recommendations-card__installments-quantity\">36</span><span class=\"ui-recommendations-card__installments-middle-text\">x </span><span aria-label=\"1751 pesos\" aria-roledescription=\"Precio\" class=\"andes-money-amount andes-money-amount--cents-comma andes-money-amount--compact\" role=\"img\" style=\"font-size:14px\"><span aria-hidden=\"true\" class=\"andes-money-amount__currency-symbol\">$</span><span aria-hidden=\"true\" class=\"andes-money-amount__fraction\">1.751</span></span> </span></span>,\n",
              " <span class=\"ui-recommendations-card__installments-original-price\"></span>,\n",
              " <span class=\"ui-recommendations-card__installments-price\"><span class=\"ui-recommendations-card__installments-quantity\">36</span><span class=\"ui-recommendations-card__installments-middle-text\">x </span><span aria-label=\"1751 pesos\" aria-roledescription=\"Precio\" class=\"andes-money-amount andes-money-amount--cents-comma andes-money-amount--compact\" role=\"img\" style=\"font-size:14px\"><span aria-hidden=\"true\" class=\"andes-money-amount__currency-symbol\">$</span><span aria-hidden=\"true\" class=\"andes-money-amount__fraction\">1.751</span></span> </span>,\n",
              " <span class=\"ui-recommendations-card__installments-quantity\">36</span>,\n",
              " <span class=\"ui-recommendations-card__installments-middle-text\">x </span>,\n",
              " <span aria-label=\"1751 pesos\" aria-roledescription=\"Precio\" class=\"andes-money-amount andes-money-amount--cents-comma andes-money-amount--compact\" role=\"img\" style=\"font-size:14px\"><span aria-hidden=\"true\" class=\"andes-money-amount__currency-symbol\">$</span><span aria-hidden=\"true\" class=\"andes-money-amount__fraction\">1.751</span></span>,\n",
              " <span aria-hidden=\"true\" class=\"andes-money-amount__currency-symbol\">$</span>,\n",
              " <span aria-hidden=\"true\" class=\"andes-money-amount__fraction\">1.751</span>,\n",
              " <span class=\"ui-recommendations-card__pill\" style=\"font-size:12px;font-weight:600;font-style:normal;color:#FFFFFF;background:#FF7733\">2º MÁS VENDIDO</span>,\n",
              " <span aria-label=\"279995 pesos\" aria-roledescription=\"Precio\" class=\"andes-money-amount ui-recommendations-card__price andes-money-amount--cents-superscript andes-money-amount--compact\" role=\"img\" style=\"font-size:24px\"><span aria-hidden=\"true\" class=\"andes-money-amount__currency-symbol\">$</span><span aria-hidden=\"true\" class=\"andes-money-amount__fraction\">279.995</span></span>,\n",
              " <span aria-hidden=\"true\" class=\"andes-money-amount__currency-symbol\">$</span>,\n",
              " <span aria-hidden=\"true\" class=\"andes-money-amount__fraction\">279.995</span>,\n",
              " <span class=\"ui-recommendations-card__installments\"><span class=\"ui-recommendations-card__installments-original-price\"></span><span class=\"ui-recommendations-card__installments-price\"><span class=\"ui-recommendations-card__installments-quantity\">36</span><span class=\"ui-recommendations-card__installments-middle-text\">x </span><span aria-label=\"7777 pesos\" aria-roledescription=\"Precio\" class=\"andes-money-amount andes-money-amount--cents-comma andes-money-amount--compact\" role=\"img\" style=\"font-size:14px\"><span aria-hidden=\"true\" class=\"andes-money-amount__currency-symbol\">$</span><span aria-hidden=\"true\" class=\"andes-money-amount__fraction\">7.777</span></span> </span></span>,\n",
              " <span class=\"ui-recommendations-card__installments-original-price\"></span>,\n",
              " <span class=\"ui-recommendations-card__installments-price\"><span class=\"ui-recommendations-card__installments-quantity\">36</span><span class=\"ui-recommendations-card__installments-middle-text\">x </span><span aria-label=\"7777 pesos\" aria-roledescription=\"Precio\" class=\"andes-money-amount andes-money-amount--cents-comma andes-money-amount--compact\" role=\"img\" style=\"font-size:14px\"><span aria-hidden=\"true\" class=\"andes-money-amount__currency-symbol\">$</span><span aria-hidden=\"true\" class=\"andes-money-amount__fraction\">7.777</span></span> </span>,\n",
              " <span class=\"ui-recommendations-card__installments-quantity\">36</span>,\n",
              " <span class=\"ui-recommendations-card__installments-middle-text\">x </span>,\n",
              " <span aria-label=\"7777 pesos\" aria-roledescription=\"Precio\" class=\"andes-money-amount andes-money-amount--cents-comma andes-money-amount--compact\" role=\"img\" style=\"font-size:14px\"><span aria-hidden=\"true\" class=\"andes-money-amount__currency-symbol\">$</span><span aria-hidden=\"true\" class=\"andes-money-amount__fraction\">7.777</span></span>,\n",
              " <span aria-hidden=\"true\" class=\"andes-money-amount__currency-symbol\">$</span>,\n",
              " <span aria-hidden=\"true\" class=\"andes-money-amount__fraction\">7.777</span>,\n",
              " <span class=\"ui-recommendations-card__shipping\"><span class=\"ui-recommendations-card__shipping-text\">Envío gratis</span></span>,\n",
              " <span class=\"ui-recommendations-card__shipping-text\">Envío gratis</span>,\n",
              " <span class=\"ui-recommendations-card__pill\" style=\"font-size:12px;font-weight:600;font-style:normal;color:#FFFFFF;background:#FF7733\">3º MÁS VENDIDO</span>,\n",
              " <span aria-label=\"74510 pesos\" aria-roledescription=\"Precio\" class=\"andes-money-amount ui-recommendations-card__price andes-money-amount--cents-superscript andes-money-amount--compact\" role=\"img\" style=\"font-size:24px\"><span aria-hidden=\"true\" class=\"andes-money-amount__currency-symbol\">$</span><span aria-hidden=\"true\" class=\"andes-money-amount__fraction\">74.510</span></span>,\n",
              " <span aria-hidden=\"true\" class=\"andes-money-amount__currency-symbol\">$</span>,\n",
              " <span aria-hidden=\"true\" class=\"andes-money-amount__fraction\">74.510</span>,\n",
              " <span class=\"ui-recommendations-card__installments\"><span class=\"ui-recommendations-card__installments-original-price\"></span><span class=\"ui-recommendations-card__installments-price\"><span class=\"ui-recommendations-card__installments-quantity\">36</span><span class=\"ui-recommendations-card__installments-middle-text\">x </span><span aria-label=\"2069 pesos\" aria-roledescription=\"Precio\" class=\"andes-money-amount andes-money-amount--cents-comma andes-money-amount--compact\" role=\"img\" style=\"font-size:14px\"><span aria-hidden=\"true\" class=\"andes-money-amount__currency-symbol\">$</span><span aria-hidden=\"true\" class=\"andes-money-amount__fraction\">2.069</span></span> </span></span>,\n",
              " <span class=\"ui-recommendations-card__installments-original-price\"></span>,\n",
              " <span class=\"ui-recommendations-card__installments-price\"><span class=\"ui-recommendations-card__installments-quantity\">36</span><span class=\"ui-recommendations-card__installments-middle-text\">x </span><span aria-label=\"2069 pesos\" aria-roledescription=\"Precio\" class=\"andes-money-amount andes-money-amount--cents-comma andes-money-amount--compact\" role=\"img\" style=\"font-size:14px\"><span aria-hidden=\"true\" class=\"andes-money-amount__currency-symbol\">$</span><span aria-hidden=\"true\" class=\"andes-money-amount__fraction\">2.069</span></span> </span>,\n",
              " <span class=\"ui-recommendations-card__installments-quantity\">36</span>,\n",
              " <span class=\"ui-recommendations-card__installments-middle-text\">x </span>,\n",
              " <span aria-label=\"2069 pesos\" aria-roledescription=\"Precio\" class=\"andes-money-amount andes-money-amount--cents-comma andes-money-amount--compact\" role=\"img\" style=\"font-size:14px\"><span aria-hidden=\"true\" class=\"andes-money-amount__currency-symbol\">$</span><span aria-hidden=\"true\" class=\"andes-money-amount__fraction\">2.069</span></span>,\n",
              " <span aria-hidden=\"true\" class=\"andes-money-amount__currency-symbol\">$</span>,\n",
              " <span aria-hidden=\"true\" class=\"andes-money-amount__fraction\">2.069</span>,\n",
              " <span class=\"ui-recommendations-card__pill\" style=\"font-size:12px;font-weight:600;font-style:normal;color:#FFFFFF;background:#FF7733\">4º MÁS VENDIDO</span>,\n",
              " <span aria-hidden=\"true\" class=\"andes-money-amount__currency-symbol\">$</span>,\n",
              " <span aria-hidden=\"true\" class=\"andes-money-amount__fraction\">97.000</span>,\n",
              " <span aria-label=\"77600 pesos\" aria-roledescription=\"Precio\" class=\"andes-money-amount ui-recommendations-card__price andes-money-amount--cents-superscript andes-money-amount--compact\" role=\"img\" style=\"font-size:24px\"><span aria-hidden=\"true\" class=\"andes-money-amount__currency-symbol\">$</span><span aria-hidden=\"true\" class=\"andes-money-amount__fraction\">77.600</span></span>,\n",
              " <span aria-hidden=\"true\" class=\"andes-money-amount__currency-symbol\">$</span>,\n",
              " <span aria-hidden=\"true\" class=\"andes-money-amount__fraction\">77.600</span>,\n",
              " <span class=\"ui-recommendations-card__price-discount-text andes-money-amount__discount\" style=\"font-size:14px\">20% OFF</span>,\n",
              " <span class=\"ui-recommendations-card__installments\"><span class=\"ui-recommendations-card__installments-original-price\"></span><span class=\"ui-recommendations-card__installments-price\"><span class=\"ui-recommendations-card__installments-quantity\">36</span><span class=\"ui-recommendations-card__installments-middle-text\">x </span><span aria-label=\"2155 pesos\" aria-roledescription=\"Precio\" class=\"andes-money-amount andes-money-amount--cents-comma andes-money-amount--compact\" role=\"img\" style=\"font-size:14px\"><span aria-hidden=\"true\" class=\"andes-money-amount__currency-symbol\">$</span><span aria-hidden=\"true\" class=\"andes-money-amount__fraction\">2.155</span></span> </span></span>,\n",
              " <span class=\"ui-recommendations-card__installments-original-price\"></span>,\n",
              " <span class=\"ui-recommendations-card__installments-price\"><span class=\"ui-recommendations-card__installments-quantity\">36</span><span class=\"ui-recommendations-card__installments-middle-text\">x </span><span aria-label=\"2155 pesos\" aria-roledescription=\"Precio\" class=\"andes-money-amount andes-money-amount--cents-comma andes-money-amount--compact\" role=\"img\" style=\"font-size:14px\"><span aria-hidden=\"true\" class=\"andes-money-amount__currency-symbol\">$</span><span aria-hidden=\"true\" class=\"andes-money-amount__fraction\">2.155</span></span> </span>,\n",
              " <span class=\"ui-recommendations-card__installments-quantity\">36</span>,\n",
              " <span class=\"ui-recommendations-card__installments-middle-text\">x </span>,\n",
              " <span aria-label=\"2155 pesos\" aria-roledescription=\"Precio\" class=\"andes-money-amount andes-money-amount--cents-comma andes-money-amount--compact\" role=\"img\" style=\"font-size:14px\"><span aria-hidden=\"true\" class=\"andes-money-amount__currency-symbol\">$</span><span aria-hidden=\"true\" class=\"andes-money-amount__fraction\">2.155</span></span>,\n",
              " <span aria-hidden=\"true\" class=\"andes-money-amount__currency-symbol\">$</span>,\n",
              " <span aria-hidden=\"true\" class=\"andes-money-amount__fraction\">2.155</span>,\n",
              " <span class=\"ui-recommendations-card__shipping\"><span class=\"ui-recommendations-card__shipping-text\">Envío gratis</span></span>,\n",
              " <span class=\"ui-recommendations-card__shipping-text\">Envío gratis</span>,\n",
              " <span class=\"ui-recommendations-card__pill\" style=\"font-size:12px;font-weight:600;font-style:normal;color:#FFFFFF;background:#FF7733\">5º MÁS VENDIDO</span>,\n",
              " <span aria-hidden=\"true\" class=\"andes-money-amount__currency-symbol\">$</span>,\n",
              " <span aria-hidden=\"true\" class=\"andes-money-amount__fraction\">153.000</span>,\n",
              " <span aria-label=\"136170 pesos\" aria-roledescription=\"Precio\" class=\"andes-money-amount ui-recommendations-card__price andes-money-amount--cents-superscript andes-money-amount--compact\" role=\"img\" style=\"font-size:24px\"><span aria-hidden=\"true\" class=\"andes-money-amount__currency-symbol\">$</span><span aria-hidden=\"true\" class=\"andes-money-amount__fraction\">136.170</span></span>,\n",
              " <span aria-hidden=\"true\" class=\"andes-money-amount__currency-symbol\">$</span>,\n",
              " <span aria-hidden=\"true\" class=\"andes-money-amount__fraction\">136.170</span>,\n",
              " <span class=\"ui-recommendations-card__price-discount-text andes-money-amount__discount\" style=\"font-size:14px\">11% OFF</span>,\n",
              " <span class=\"ui-recommendations-card__installments\"><span class=\"ui-recommendations-card__installments-original-price\"></span><span class=\"ui-recommendations-card__installments-price\"><span class=\"ui-recommendations-card__installments-quantity\">36</span><span class=\"ui-recommendations-card__installments-middle-text\">x </span><span aria-label=\"3782 pesos\" aria-roledescription=\"Precio\" class=\"andes-money-amount andes-money-amount--cents-comma andes-money-amount--compact\" role=\"img\" style=\"font-size:14px\"><span aria-hidden=\"true\" class=\"andes-money-amount__currency-symbol\">$</span><span aria-hidden=\"true\" class=\"andes-money-amount__fraction\">3.782</span></span> </span></span>,\n",
              " <span class=\"ui-recommendations-card__installments-original-price\"></span>,\n",
              " <span class=\"ui-recommendations-card__installments-price\"><span class=\"ui-recommendations-card__installments-quantity\">36</span><span class=\"ui-recommendations-card__installments-middle-text\">x </span><span aria-label=\"3782 pesos\" aria-roledescription=\"Precio\" class=\"andes-money-amount andes-money-amount--cents-comma andes-money-amount--compact\" role=\"img\" style=\"font-size:14px\"><span aria-hidden=\"true\" class=\"andes-money-amount__currency-symbol\">$</span><span aria-hidden=\"true\" class=\"andes-money-amount__fraction\">3.782</span></span> </span>,\n",
              " <span class=\"ui-recommendations-card__installments-quantity\">36</span>,\n",
              " <span class=\"ui-recommendations-card__installments-middle-text\">x </span>,\n",
              " <span aria-label=\"3782 pesos\" aria-roledescription=\"Precio\" class=\"andes-money-amount andes-money-amount--cents-comma andes-money-amount--compact\" role=\"img\" style=\"font-size:14px\"><span aria-hidden=\"true\" class=\"andes-money-amount__currency-symbol\">$</span><span aria-hidden=\"true\" class=\"andes-money-amount__fraction\">3.782</span></span>,\n",
              " <span aria-hidden=\"true\" class=\"andes-money-amount__currency-symbol\">$</span>,\n",
              " <span aria-hidden=\"true\" class=\"andes-money-amount__fraction\">3.782</span>,\n",
              " <span class=\"ui-recommendations-card__shipping\"><span class=\"ui-recommendations-card__shipping-text\">Envío gratis</span></span>,\n",
              " <span class=\"ui-recommendations-card__shipping-text\">Envío gratis</span>,\n",
              " <span class=\"ui-recommendations-card__pill\" style=\"font-size:12px;font-weight:600;font-style:normal;color:#FFFFFF;background:#FF7733\">6º MÁS VENDIDO</span>,\n",
              " <span aria-hidden=\"true\" class=\"andes-money-amount__currency-symbol\">$</span>,\n",
              " <span aria-hidden=\"true\" class=\"andes-money-amount__fraction\">139.890</span>,\n",
              " <span aria-label=\"104917 pesos\" aria-roledescription=\"Precio\" class=\"andes-money-amount ui-recommendations-card__price andes-money-amount--cents-superscript andes-money-amount--compact\" role=\"img\" style=\"font-size:24px\"><span aria-hidden=\"true\" class=\"andes-money-amount__currency-symbol\">$</span><span aria-hidden=\"true\" class=\"andes-money-amount__fraction\">104.917</span></span>,\n",
              " <span aria-hidden=\"true\" class=\"andes-money-amount__currency-symbol\">$</span>,\n",
              " <span aria-hidden=\"true\" class=\"andes-money-amount__fraction\">104.917</span>,\n",
              " <span class=\"ui-recommendations-card__price-discount-text andes-money-amount__discount\" style=\"font-size:14px\">25% OFF</span>,\n",
              " <span class=\"ui-recommendations-card__installments\"><span class=\"ui-recommendations-card__installments-original-price\"></span><span class=\"ui-recommendations-card__installments-price\"><span class=\"ui-recommendations-card__installments-quantity\">36</span><span class=\"ui-recommendations-card__installments-middle-text\">x </span><span aria-label=\"2914 pesos\" aria-roledescription=\"Precio\" class=\"andes-money-amount andes-money-amount--cents-comma andes-money-amount--compact\" role=\"img\" style=\"font-size:14px\"><span aria-hidden=\"true\" class=\"andes-money-amount__currency-symbol\">$</span><span aria-hidden=\"true\" class=\"andes-money-amount__fraction\">2.914</span></span> </span></span>,\n",
              " <span class=\"ui-recommendations-card__installments-original-price\"></span>,\n",
              " <span class=\"ui-recommendations-card__installments-price\"><span class=\"ui-recommendations-card__installments-quantity\">36</span><span class=\"ui-recommendations-card__installments-middle-text\">x </span><span aria-label=\"2914 pesos\" aria-roledescription=\"Precio\" class=\"andes-money-amount andes-money-amount--cents-comma andes-money-amount--compact\" role=\"img\" style=\"font-size:14px\"><span aria-hidden=\"true\" class=\"andes-money-amount__currency-symbol\">$</span><span aria-hidden=\"true\" class=\"andes-money-amount__fraction\">2.914</span></span> </span>,\n",
              " <span class=\"ui-recommendations-card__installments-quantity\">36</span>,\n",
              " <span class=\"ui-recommendations-card__installments-middle-text\">x </span>,\n",
              " <span aria-label=\"2914 pesos\" aria-roledescription=\"Precio\" class=\"andes-money-amount andes-money-amount--cents-comma andes-money-amount--compact\" role=\"img\" style=\"font-size:14px\"><span aria-hidden=\"true\" class=\"andes-money-amount__currency-symbol\">$</span><span aria-hidden=\"true\" class=\"andes-money-amount__fraction\">2.914</span></span>,\n",
              " <span aria-hidden=\"true\" class=\"andes-money-amount__currency-symbol\">$</span>,\n",
              " <span aria-hidden=\"true\" class=\"andes-money-amount__fraction\">2.914</span>,\n",
              " <span class=\"ui-recommendations-card__shipping\"><span class=\"ui-recommendations-card__shipping-text\">Envío gratis</span></span>,\n",
              " <span class=\"ui-recommendations-card__shipping-text\">Envío gratis</span>,\n",
              " <span class=\"ui-recommendations-card__pill\" style=\"font-size:12px;font-weight:600;font-style:normal;color:#FFFFFF;background:#FF7733\">7º MÁS VENDIDO</span>,\n",
              " <span aria-label=\"75667 pesos\" aria-roledescription=\"Precio\" class=\"andes-money-amount ui-recommendations-card__price andes-money-amount--cents-superscript andes-money-amount--compact\" role=\"img\" style=\"font-size:24px\"><span aria-hidden=\"true\" class=\"andes-money-amount__currency-symbol\">$</span><span aria-hidden=\"true\" class=\"andes-money-amount__fraction\">75.667</span></span>,\n",
              " <span aria-hidden=\"true\" class=\"andes-money-amount__currency-symbol\">$</span>,\n",
              " <span aria-hidden=\"true\" class=\"andes-money-amount__fraction\">75.667</span>,\n",
              " <span class=\"ui-recommendations-card__installments\"><span class=\"ui-recommendations-card__installments-original-price\"></span><span class=\"ui-recommendations-card__installments-price\"><span class=\"ui-recommendations-card__installments-quantity\">36</span><span class=\"ui-recommendations-card__installments-middle-text\">x </span><span aria-label=\"2101 pesos\" aria-roledescription=\"Precio\" class=\"andes-money-amount andes-money-amount--cents-comma andes-money-amount--compact\" role=\"img\" style=\"font-size:14px\"><span aria-hidden=\"true\" class=\"andes-money-amount__currency-symbol\">$</span><span aria-hidden=\"true\" class=\"andes-money-amount__fraction\">2.101</span></span> </span></span>,\n",
              " <span class=\"ui-recommendations-card__installments-original-price\"></span>,\n",
              " <span class=\"ui-recommendations-card__installments-price\"><span class=\"ui-recommendations-card__installments-quantity\">36</span><span class=\"ui-recommendations-card__installments-middle-text\">x </span><span aria-label=\"2101 pesos\" aria-roledescription=\"Precio\" class=\"andes-money-amount andes-money-amount--cents-comma andes-money-amount--compact\" role=\"img\" style=\"font-size:14px\"><span aria-hidden=\"true\" class=\"andes-money-amount__currency-symbol\">$</span><span aria-hidden=\"true\" class=\"andes-money-amount__fraction\">2.101</span></span> </span>,\n",
              " <span class=\"ui-recommendations-card__installments-quantity\">36</span>,\n",
              " <span class=\"ui-recommendations-card__installments-middle-text\">x </span>,\n",
              " <span aria-label=\"2101 pesos\" aria-roledescription=\"Precio\" class=\"andes-money-amount andes-money-amount--cents-comma andes-money-amount--compact\" role=\"img\" style=\"font-size:14px\"><span aria-hidden=\"true\" class=\"andes-money-amount__currency-symbol\">$</span><span aria-hidden=\"true\" class=\"andes-money-amount__fraction\">2.101</span></span>,\n",
              " <span aria-hidden=\"true\" class=\"andes-money-amount__currency-symbol\">$</span>,\n",
              " <span aria-hidden=\"true\" class=\"andes-money-amount__fraction\">2.101</span>,\n",
              " <span class=\"ui-recommendations-card__pill\" style=\"font-size:12px;font-weight:600;font-style:normal;color:#FFFFFF;background:#FF7733\">8º MÁS VENDIDO</span>,\n",
              " <span aria-label=\"44890 pesos\" aria-roledescription=\"Precio\" class=\"andes-money-amount ui-recommendations-card__price andes-money-amount--cents-superscript andes-money-amount--compact\" role=\"img\" style=\"font-size:24px\"><span aria-hidden=\"true\" class=\"andes-money-amount__currency-symbol\">$</span><span aria-hidden=\"true\" class=\"andes-money-amount__fraction\">44.890</span></span>,\n",
              " <span aria-hidden=\"true\" class=\"andes-money-amount__currency-symbol\">$</span>,\n",
              " <span aria-hidden=\"true\" class=\"andes-money-amount__fraction\">44.890</span>,\n",
              " <span class=\"ui-recommendations-card__installments\"><span class=\"ui-recommendations-card__installments-original-price\"></span><span class=\"ui-recommendations-card__installments-price\"><span class=\"ui-recommendations-card__installments-quantity\">36</span><span class=\"ui-recommendations-card__installments-middle-text\">x </span><span aria-label=\"1246 pesos\" aria-roledescription=\"Precio\" class=\"andes-money-amount andes-money-amount--cents-comma andes-money-amount--compact\" role=\"img\" style=\"font-size:14px\"><span aria-hidden=\"true\" class=\"andes-money-amount__currency-symbol\">$</span><span aria-hidden=\"true\" class=\"andes-money-amount__fraction\">1.246</span></span> </span></span>,\n",
              " <span class=\"ui-recommendations-card__installments-original-price\"></span>,\n",
              " <span class=\"ui-recommendations-card__installments-price\"><span class=\"ui-recommendations-card__installments-quantity\">36</span><span class=\"ui-recommendations-card__installments-middle-text\">x </span><span aria-label=\"1246 pesos\" aria-roledescription=\"Precio\" class=\"andes-money-amount andes-money-amount--cents-comma andes-money-amount--compact\" role=\"img\" style=\"font-size:14px\"><span aria-hidden=\"true\" class=\"andes-money-amount__currency-symbol\">$</span><span aria-hidden=\"true\" class=\"andes-money-amount__fraction\">1.246</span></span> </span>,\n",
              " <span class=\"ui-recommendations-card__installments-quantity\">36</span>,\n",
              " <span class=\"ui-recommendations-card__installments-middle-text\">x </span>,\n",
              " <span aria-label=\"1246 pesos\" aria-roledescription=\"Precio\" class=\"andes-money-amount andes-money-amount--cents-comma andes-money-amount--compact\" role=\"img\" style=\"font-size:14px\"><span aria-hidden=\"true\" class=\"andes-money-amount__currency-symbol\">$</span><span aria-hidden=\"true\" class=\"andes-money-amount__fraction\">1.246</span></span>,\n",
              " <span aria-hidden=\"true\" class=\"andes-money-amount__currency-symbol\">$</span>,\n",
              " <span aria-hidden=\"true\" class=\"andes-money-amount__fraction\">1.246</span>,\n",
              " <span class=\"ui-recommendations-card__shipping\"><svg class=\"ui-search-icon ui-search-icon--full ui-recommendations-card__shipping-icon\" viewbox=\"0 0 41 13\" xmlns=\"http://www.w3.org/2000/svg\"><path d=\"M2.628 0h5.255L5.255 4.643h4.38L2.628 13l1.751-5.571H0L2.628 0zm11.589 9.533h-1.959l1.674-7.515H19.5l-.376 1.69h-3.61l-.25 1.172h3.519l-.376 1.69h-3.53l-.66 2.963zm9.468.136c-2.334 0-3.484-1.105-3.484-2.682 0-.124.034-.383.057-.496l1.002-4.473h1.992l-.99 4.428c-.012.057-.034.18-.034.316.011.62.49 1.217 1.457 1.217 1.048 0 1.583-.654 1.776-1.533l.991-4.428h1.981l-.99 4.462c-.41 1.825-1.412 3.189-3.758 3.189zm10.118-.136h-5.01l1.673-7.515h1.959l-1.287 5.825h3.04l-.375 1.69zm6.678 0h-5.01l1.674-7.515h1.959l-1.287 5.825h3.04l-.376 1.69z\" fill=\"#00A650\" fill-rule=\"nonzero\"></path></svg></span>,\n",
              " <span class=\"ui-recommendations-card__pill\" style=\"font-size:12px;font-weight:600;font-style:normal;color:#FFFFFF;background:#FF7733\">9º MÁS VENDIDO</span>,\n",
              " <span aria-hidden=\"true\" class=\"andes-money-amount__currency-symbol\">$</span>,\n",
              " <span aria-hidden=\"true\" class=\"andes-money-amount__fraction\">113.400</span>,\n",
              " <span aria-label=\"90720 pesos\" aria-roledescription=\"Precio\" class=\"andes-money-amount ui-recommendations-card__price andes-money-amount--cents-superscript andes-money-amount--compact\" role=\"img\" style=\"font-size:24px\"><span aria-hidden=\"true\" class=\"andes-money-amount__currency-symbol\">$</span><span aria-hidden=\"true\" class=\"andes-money-amount__fraction\">90.720</span></span>,\n",
              " <span aria-hidden=\"true\" class=\"andes-money-amount__currency-symbol\">$</span>,\n",
              " <span aria-hidden=\"true\" class=\"andes-money-amount__fraction\">90.720</span>,\n",
              " <span class=\"ui-recommendations-card__price-discount-text andes-money-amount__discount\" style=\"font-size:14px\">20% OFF</span>,\n",
              " <span class=\"ui-recommendations-card__installments\"><span class=\"ui-recommendations-card__installments-original-price\"></span><span class=\"ui-recommendations-card__installments-price\"><span class=\"ui-recommendations-card__installments-quantity\">36</span><span class=\"ui-recommendations-card__installments-middle-text\">x </span><span aria-label=\"2520 pesos\" aria-roledescription=\"Precio\" class=\"andes-money-amount andes-money-amount--cents-comma andes-money-amount--compact\" role=\"img\" style=\"font-size:14px\"><span aria-hidden=\"true\" class=\"andes-money-amount__currency-symbol\">$</span><span aria-hidden=\"true\" class=\"andes-money-amount__fraction\">2.520</span></span> </span></span>,\n",
              " <span class=\"ui-recommendations-card__installments-original-price\"></span>,\n",
              " <span class=\"ui-recommendations-card__installments-price\"><span class=\"ui-recommendations-card__installments-quantity\">36</span><span class=\"ui-recommendations-card__installments-middle-text\">x </span><span aria-label=\"2520 pesos\" aria-roledescription=\"Precio\" class=\"andes-money-amount andes-money-amount--cents-comma andes-money-amount--compact\" role=\"img\" style=\"font-size:14px\"><span aria-hidden=\"true\" class=\"andes-money-amount__currency-symbol\">$</span><span aria-hidden=\"true\" class=\"andes-money-amount__fraction\">2.520</span></span> </span>,\n",
              " <span class=\"ui-recommendations-card__installments-quantity\">36</span>,\n",
              " <span class=\"ui-recommendations-card__installments-middle-text\">x </span>,\n",
              " <span aria-label=\"2520 pesos\" aria-roledescription=\"Precio\" class=\"andes-money-amount andes-money-amount--cents-comma andes-money-amount--compact\" role=\"img\" style=\"font-size:14px\"><span aria-hidden=\"true\" class=\"andes-money-amount__currency-symbol\">$</span><span aria-hidden=\"true\" class=\"andes-money-amount__fraction\">2.520</span></span>,\n",
              " <span aria-hidden=\"true\" class=\"andes-money-amount__currency-symbol\">$</span>,\n",
              " <span aria-hidden=\"true\" class=\"andes-money-amount__fraction\">2.520</span>,\n",
              " <span class=\"ui-recommendations-card__shipping\"><span class=\"ui-recommendations-card__shipping-text\">Envío gratis</span><svg class=\"ui-search-icon ui-search-icon--full ui-recommendations-card__shipping-icon\" viewbox=\"0 0 41 13\" xmlns=\"http://www.w3.org/2000/svg\"><path d=\"M2.628 0h5.255L5.255 4.643h4.38L2.628 13l1.751-5.571H0L2.628 0zm11.589 9.533h-1.959l1.674-7.515H19.5l-.376 1.69h-3.61l-.25 1.172h3.519l-.376 1.69h-3.53l-.66 2.963zm9.468.136c-2.334 0-3.484-1.105-3.484-2.682 0-.124.034-.383.057-.496l1.002-4.473h1.992l-.99 4.428c-.012.057-.034.18-.034.316.011.62.49 1.217 1.457 1.217 1.048 0 1.583-.654 1.776-1.533l.991-4.428h1.981l-.99 4.462c-.41 1.825-1.412 3.189-3.758 3.189zm10.118-.136h-5.01l1.673-7.515h1.959l-1.287 5.825h3.04l-.375 1.69zm6.678 0h-5.01l1.674-7.515h1.959l-1.287 5.825h3.04l-.376 1.69z\" fill=\"#00A650\" fill-rule=\"nonzero\"></path></svg></span>,\n",
              " <span class=\"ui-recommendations-card__shipping-text\">Envío gratis</span>,\n",
              " <span class=\"ui-recommendations-card__pill\" style=\"font-size:12px;font-weight:600;font-style:normal;color:#FFFFFF;background:#FF7733\">10º MÁS VENDIDO</span>,\n",
              " <span aria-hidden=\"true\" class=\"andes-money-amount__currency-symbol\">$</span>,\n",
              " <span aria-hidden=\"true\" class=\"andes-money-amount__fraction\">17.550</span>,\n",
              " <span aria-label=\"16672 pesos\" aria-roledescription=\"Precio\" class=\"andes-money-amount ui-recommendations-card__price andes-money-amount--cents-superscript andes-money-amount--compact\" role=\"img\" style=\"font-size:24px\"><span aria-hidden=\"true\" class=\"andes-money-amount__currency-symbol\">$</span><span aria-hidden=\"true\" class=\"andes-money-amount__fraction\">16.672</span></span>,\n",
              " <span aria-hidden=\"true\" class=\"andes-money-amount__currency-symbol\">$</span>,\n",
              " <span aria-hidden=\"true\" class=\"andes-money-amount__fraction\">16.672</span>,\n",
              " <span class=\"ui-recommendations-card__price-discount-text andes-money-amount__discount\" style=\"font-size:14px\">5% OFF</span>,\n",
              " <span class=\"ui-recommendations-card__installments\"><span class=\"ui-recommendations-card__installments-original-price\"></span><span class=\"ui-recommendations-card__installments-price\"><span class=\"ui-recommendations-card__installments-quantity\">36</span><span class=\"ui-recommendations-card__installments-middle-text\">x </span><span aria-label=\"463 pesos\" aria-roledescription=\"Precio\" class=\"andes-money-amount andes-money-amount--cents-comma andes-money-amount--compact\" role=\"img\" style=\"font-size:14px\"><span aria-hidden=\"true\" class=\"andes-money-amount__currency-symbol\">$</span><span aria-hidden=\"true\" class=\"andes-money-amount__fraction\">463</span></span> </span></span>,\n",
              " <span class=\"ui-recommendations-card__installments-original-price\"></span>,\n",
              " <span class=\"ui-recommendations-card__installments-price\"><span class=\"ui-recommendations-card__installments-quantity\">36</span><span class=\"ui-recommendations-card__installments-middle-text\">x </span><span aria-label=\"463 pesos\" aria-roledescription=\"Precio\" class=\"andes-money-amount andes-money-amount--cents-comma andes-money-amount--compact\" role=\"img\" style=\"font-size:14px\"><span aria-hidden=\"true\" class=\"andes-money-amount__currency-symbol\">$</span><span aria-hidden=\"true\" class=\"andes-money-amount__fraction\">463</span></span> </span>,\n",
              " <span class=\"ui-recommendations-card__installments-quantity\">36</span>,\n",
              " <span class=\"ui-recommendations-card__installments-middle-text\">x </span>,\n",
              " <span aria-label=\"463 pesos\" aria-roledescription=\"Precio\" class=\"andes-money-amount andes-money-amount--cents-comma andes-money-amount--compact\" role=\"img\" style=\"font-size:14px\"><span aria-hidden=\"true\" class=\"andes-money-amount__currency-symbol\">$</span><span aria-hidden=\"true\" class=\"andes-money-amount__fraction\">463</span></span>,\n",
              " <span aria-hidden=\"true\" class=\"andes-money-amount__currency-symbol\">$</span>,\n",
              " <span aria-hidden=\"true\" class=\"andes-money-amount__fraction\">463</span>,\n",
              " <span class=\"ui-recommendations-card__pill\" style=\"font-size:12px;font-weight:600;font-style:normal;color:#FFFFFF;background:#FF7733\">11º MÁS VENDIDO</span>,\n",
              " <span aria-hidden=\"true\" class=\"andes-money-amount__currency-symbol\">$</span>,\n",
              " <span aria-hidden=\"true\" class=\"andes-money-amount__fraction\">374.800</span>,\n",
              " <span aria-label=\"329824 pesos\" aria-roledescription=\"Precio\" class=\"andes-money-amount ui-recommendations-card__price andes-money-amount--cents-superscript andes-money-amount--compact\" role=\"img\" style=\"font-size:24px\"><span aria-hidden=\"true\" class=\"andes-money-amount__currency-symbol\">$</span><span aria-hidden=\"true\" class=\"andes-money-amount__fraction\">329.824</span></span>,\n",
              " <span aria-hidden=\"true\" class=\"andes-money-amount__currency-symbol\">$</span>,\n",
              " <span aria-hidden=\"true\" class=\"andes-money-amount__fraction\">329.824</span>,\n",
              " <span class=\"ui-recommendations-card__price-discount-text andes-money-amount__discount\" style=\"font-size:14px\">12% OFF</span>,\n",
              " <span class=\"ui-recommendations-card__installments\"><span class=\"ui-recommendations-card__installments-original-price\"></span><span class=\"ui-recommendations-card__installments-price\"><span class=\"ui-recommendations-card__installments-quantity\">36</span><span class=\"ui-recommendations-card__installments-middle-text\">x </span><span aria-label=\"9161 pesos\" aria-roledescription=\"Precio\" class=\"andes-money-amount andes-money-amount--cents-comma andes-money-amount--compact\" role=\"img\" style=\"font-size:14px\"><span aria-hidden=\"true\" class=\"andes-money-amount__currency-symbol\">$</span><span aria-hidden=\"true\" class=\"andes-money-amount__fraction\">9.161</span></span> </span></span>,\n",
              " <span class=\"ui-recommendations-card__installments-original-price\"></span>,\n",
              " <span class=\"ui-recommendations-card__installments-price\"><span class=\"ui-recommendations-card__installments-quantity\">36</span><span class=\"ui-recommendations-card__installments-middle-text\">x </span><span aria-label=\"9161 pesos\" aria-roledescription=\"Precio\" class=\"andes-money-amount andes-money-amount--cents-comma andes-money-amount--compact\" role=\"img\" style=\"font-size:14px\"><span aria-hidden=\"true\" class=\"andes-money-amount__currency-symbol\">$</span><span aria-hidden=\"true\" class=\"andes-money-amount__fraction\">9.161</span></span> </span>,\n",
              " <span class=\"ui-recommendations-card__installments-quantity\">36</span>,\n",
              " <span class=\"ui-recommendations-card__installments-middle-text\">x </span>,\n",
              " <span aria-label=\"9161 pesos\" aria-roledescription=\"Precio\" class=\"andes-money-amount andes-money-amount--cents-comma andes-money-amount--compact\" role=\"img\" style=\"font-size:14px\"><span aria-hidden=\"true\" class=\"andes-money-amount__currency-symbol\">$</span><span aria-hidden=\"true\" class=\"andes-money-amount__fraction\">9.161</span></span>,\n",
              " <span aria-hidden=\"true\" class=\"andes-money-amount__currency-symbol\">$</span>,\n",
              " <span aria-hidden=\"true\" class=\"andes-money-amount__fraction\">9.161</span>,\n",
              " <span class=\"ui-recommendations-card__shipping\"><span class=\"ui-recommendations-card__shipping-text\">Envío gratis</span></span>,\n",
              " <span class=\"ui-recommendations-card__shipping-text\">Envío gratis</span>,\n",
              " <span class=\"ui-recommendations-card__pill\" style=\"font-size:12px;font-weight:600;font-style:normal;color:#FFFFFF;background:#FF7733\">12º MÁS VENDIDO</span>,\n",
              " <span aria-hidden=\"true\" class=\"andes-money-amount__currency-symbol\">$</span>,\n",
              " <span aria-hidden=\"true\" class=\"andes-money-amount__fraction\">74.890</span>,\n",
              " <span aria-label=\"63656 pesos\" aria-roledescription=\"Precio\" class=\"andes-money-amount ui-recommendations-card__price andes-money-amount--cents-superscript andes-money-amount--compact\" role=\"img\" style=\"font-size:24px\"><span aria-hidden=\"true\" class=\"andes-money-amount__currency-symbol\">$</span><span aria-hidden=\"true\" class=\"andes-money-amount__fraction\">63.656</span></span>,\n",
              " <span aria-hidden=\"true\" class=\"andes-money-amount__currency-symbol\">$</span>,\n",
              " <span aria-hidden=\"true\" class=\"andes-money-amount__fraction\">63.656</span>,\n",
              " <span class=\"ui-recommendations-card__price-discount-text andes-money-amount__discount\" style=\"font-size:14px\">15% OFF</span>,\n",
              " <span class=\"ui-recommendations-card__installments\"><span class=\"ui-recommendations-card__installments-original-price\"></span><span class=\"ui-recommendations-card__installments-price\"><span class=\"ui-recommendations-card__installments-quantity\">36</span><span class=\"ui-recommendations-card__installments-middle-text\">x </span><span aria-label=\"1768 pesos\" aria-roledescription=\"Precio\" class=\"andes-money-amount andes-money-amount--cents-comma andes-money-amount--compact\" role=\"img\" style=\"font-size:14px\"><span aria-hidden=\"true\" class=\"andes-money-amount__currency-symbol\">$</span><span aria-hidden=\"true\" class=\"andes-money-amount__fraction\">1.768</span></span> </span></span>,\n",
              " <span class=\"ui-recommendations-card__installments-original-price\"></span>,\n",
              " <span class=\"ui-recommendations-card__installments-price\"><span class=\"ui-recommendations-card__installments-quantity\">36</span><span class=\"ui-recommendations-card__installments-middle-text\">x </span><span aria-label=\"1768 pesos\" aria-roledescription=\"Precio\" class=\"andes-money-amount andes-money-amount--cents-comma andes-money-amount--compact\" role=\"img\" style=\"font-size:14px\"><span aria-hidden=\"true\" class=\"andes-money-amount__currency-symbol\">$</span><span aria-hidden=\"true\" class=\"andes-money-amount__fraction\">1.768</span></span> </span>,\n",
              " <span class=\"ui-recommendations-card__installments-quantity\">36</span>,\n",
              " <span class=\"ui-recommendations-card__installments-middle-text\">x </span>,\n",
              " <span aria-label=\"1768 pesos\" aria-roledescription=\"Precio\" class=\"andes-money-amount andes-money-amount--cents-comma andes-money-amount--compact\" role=\"img\" style=\"font-size:14px\"><span aria-hidden=\"true\" class=\"andes-money-amount__currency-symbol\">$</span><span aria-hidden=\"true\" class=\"andes-money-amount__fraction\">1.768</span></span>,\n",
              " <span aria-hidden=\"true\" class=\"andes-money-amount__currency-symbol\">$</span>,\n",
              " <span aria-hidden=\"true\" class=\"andes-money-amount__fraction\">1.768</span>,\n",
              " <span class=\"ui-recommendations-card__shipping\"><svg class=\"ui-search-icon ui-search-icon--full ui-recommendations-card__shipping-icon\" viewbox=\"0 0 41 13\" xmlns=\"http://www.w3.org/2000/svg\"><path d=\"M2.628 0h5.255L5.255 4.643h4.38L2.628 13l1.751-5.571H0L2.628 0zm11.589 9.533h-1.959l1.674-7.515H19.5l-.376 1.69h-3.61l-.25 1.172h3.519l-.376 1.69h-3.53l-.66 2.963zm9.468.136c-2.334 0-3.484-1.105-3.484-2.682 0-.124.034-.383.057-.496l1.002-4.473h1.992l-.99 4.428c-.012.057-.034.18-.034.316.011.62.49 1.217 1.457 1.217 1.048 0 1.583-.654 1.776-1.533l.991-4.428h1.981l-.99 4.462c-.41 1.825-1.412 3.189-3.758 3.189zm10.118-.136h-5.01l1.673-7.515h1.959l-1.287 5.825h3.04l-.375 1.69zm6.678 0h-5.01l1.674-7.515h1.959l-1.287 5.825h3.04l-.376 1.69z\" fill=\"#00A650\" fill-rule=\"nonzero\"></path></svg></span>,\n",
              " <span class=\"ui-recommendations-card__pill\" style=\"font-size:12px;font-weight:600;font-style:normal;color:#FFFFFF;background:#FF7733\">13º MÁS VENDIDO</span>,\n",
              " <span aria-hidden=\"true\" class=\"andes-money-amount__currency-symbol\">$</span>,\n",
              " <span aria-hidden=\"true\" class=\"andes-money-amount__fraction\">105.700</span>,\n",
              " <span aria-label=\"84560 pesos\" aria-roledescription=\"Precio\" class=\"andes-money-amount ui-recommendations-card__price andes-money-amount--cents-superscript andes-money-amount--compact\" role=\"img\" style=\"font-size:24px\"><span aria-hidden=\"true\" class=\"andes-money-amount__currency-symbol\">$</span><span aria-hidden=\"true\" class=\"andes-money-amount__fraction\">84.560</span></span>,\n",
              " <span aria-hidden=\"true\" class=\"andes-money-amount__currency-symbol\">$</span>,\n",
              " <span aria-hidden=\"true\" class=\"andes-money-amount__fraction\">84.560</span>,\n",
              " <span class=\"ui-recommendations-card__price-discount-text andes-money-amount__discount\" style=\"font-size:14px\">20% OFF</span>,\n",
              " <span class=\"ui-recommendations-card__installments\"><span class=\"ui-recommendations-card__installments-original-price\"></span><span class=\"ui-recommendations-card__installments-price\"><span class=\"ui-recommendations-card__installments-quantity\">36</span><span class=\"ui-recommendations-card__installments-middle-text\">x </span><span aria-label=\"2348 pesos\" aria-roledescription=\"Precio\" class=\"andes-money-amount andes-money-amount--cents-comma andes-money-amount--compact\" role=\"img\" style=\"font-size:14px\"><span aria-hidden=\"true\" class=\"andes-money-amount__currency-symbol\">$</span><span aria-hidden=\"true\" class=\"andes-money-amount__fraction\">2.348</span></span> </span></span>,\n",
              " <span class=\"ui-recommendations-card__installments-original-price\"></span>,\n",
              " <span class=\"ui-recommendations-card__installments-price\"><span class=\"ui-recommendations-card__installments-quantity\">36</span><span class=\"ui-recommendations-card__installments-middle-text\">x </span><span aria-label=\"2348 pesos\" aria-roledescription=\"Precio\" class=\"andes-money-amount andes-money-amount--cents-comma andes-money-amount--compact\" role=\"img\" style=\"font-size:14px\"><span aria-hidden=\"true\" class=\"andes-money-amount__currency-symbol\">$</span><span aria-hidden=\"true\" class=\"andes-money-amount__fraction\">2.348</span></span> </span>,\n",
              " <span class=\"ui-recommendations-card__installments-quantity\">36</span>,\n",
              " <span class=\"ui-recommendations-card__installments-middle-text\">x </span>,\n",
              " <span aria-label=\"2348 pesos\" aria-roledescription=\"Precio\" class=\"andes-money-amount andes-money-amount--cents-comma andes-money-amount--compact\" role=\"img\" style=\"font-size:14px\"><span aria-hidden=\"true\" class=\"andes-money-amount__currency-symbol\">$</span><span aria-hidden=\"true\" class=\"andes-money-amount__fraction\">2.348</span></span>,\n",
              " <span aria-hidden=\"true\" class=\"andes-money-amount__currency-symbol\">$</span>,\n",
              " <span aria-hidden=\"true\" class=\"andes-money-amount__fraction\">2.348</span>,\n",
              " <span class=\"ui-recommendations-card__shipping\"><span class=\"ui-recommendations-card__shipping-text\">Envío gratis</span><svg class=\"ui-search-icon ui-search-icon--full ui-recommendations-card__shipping-icon\" viewbox=\"0 0 41 13\" xmlns=\"http://www.w3.org/2000/svg\"><path d=\"M2.628 0h5.255L5.255 4.643h4.38L2.628 13l1.751-5.571H0L2.628 0zm11.589 9.533h-1.959l1.674-7.515H19.5l-.376 1.69h-3.61l-.25 1.172h3.519l-.376 1.69h-3.53l-.66 2.963zm9.468.136c-2.334 0-3.484-1.105-3.484-2.682 0-.124.034-.383.057-.496l1.002-4.473h1.992l-.99 4.428c-.012.057-.034.18-.034.316.011.62.49 1.217 1.457 1.217 1.048 0 1.583-.654 1.776-1.533l.991-4.428h1.981l-.99 4.462c-.41 1.825-1.412 3.189-3.758 3.189zm10.118-.136h-5.01l1.673-7.515h1.959l-1.287 5.825h3.04l-.375 1.69zm6.678 0h-5.01l1.674-7.515h1.959l-1.287 5.825h3.04l-.376 1.69z\" fill=\"#00A650\" fill-rule=\"nonzero\"></path></svg></span>,\n",
              " <span class=\"ui-recommendations-card__shipping-text\">Envío gratis</span>]"
            ]
          },
          "metadata": {},
          "execution_count": 26
        }
      ]
    }
  ]
}