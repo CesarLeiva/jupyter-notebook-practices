{
  "nbformat": 4,
  "nbformat_minor": 0,
  "metadata": {
    "colab": {
      "provenance": []
    },
    "kernelspec": {
      "name": "python3",
      "display_name": "Python 3"
    },
    "language_info": {
      "name": "python"
    }
  },
  "cells": [
    {
      "cell_type": "markdown",
      "source": [
        "# Algoritmo para hacer una tabla de frecuencias usando **NumPy**\n"
      ],
      "metadata": {
        "id": "ByANhd4oq-Op"
      }
    },
    {
      "cell_type": "markdown",
      "source": [
        "n = tamaño de la muestra\n",
        "\n",
        "R = rango (max - min)\n",
        "\n",
        "K = número de intérvalos -> 1+3.332*log10(n) = (impar más cercano)\n",
        "\n",
        "A = Amplitud del intérvalo = *R/K*"
      ],
      "metadata": {
        "id": "7gjkaH49rOJt"
      }
    },
    {
      "cell_type": "markdown",
      "source": [
        "**| Población | x | f | fr | F |**\n",
        "\n",
        "*Población* -> en intérvalos\n",
        "\n",
        "*x* -> Marca de clases = sum(intérvalo)/2\n",
        "\n",
        "*f* -> frecuencia absoluta (veces q se repiten los datos del intervalo)\n",
        "\n",
        "*fr* -> frecuencia relativa (f/n)\n",
        "\n",
        "*F* -> frecuencia acumulada (la suma de f con las de los anteriores intervalos)\n"
      ],
      "metadata": {
        "id": "MHWMdZ7qH6Yg"
      }
    },
    {
      "cell_type": "code",
      "execution_count": null,
      "metadata": {
        "id": "5IpKYCc22n5J"
      },
      "outputs": [],
      "source": [
        "import numpy as np\n",
        "from numpy import random"
      ]
    },
    {
      "cell_type": "code",
      "source": [
        "# #Ejecutar para hacer la tabla con una muestra real\n",
        "\n",
        "# muestra = np.array([1,2,3,4,5,45,4,547,47,45,345,3,42,4,34,32,532,56,34,745,43,53,5,346,435,3,32,6,457,45,734,5,325,34,64,7,2]) #Insertar aquí la muestra\n",
        "# n = len(muestra)"
      ],
      "metadata": {
        "id": "wSjN5GptW8nO"
      },
      "execution_count": null,
      "outputs": []
    },
    {
      "cell_type": "code",
      "source": [
        "#Ejecutar para hacer una muestra de números random\n",
        "\n",
        "n = 1000 #Tamaño de la muestra\n",
        "desde = 1 #Donde empieza la muestra\n",
        "hasta = 50 #Donde termina la muestra\n",
        "muestra = np.array(random.randint(desde, hasta+1, size=(n))) #Muestra con randint"
      ],
      "metadata": {
        "id": "PDK2HApdW1Fi"
      },
      "execution_count": null,
      "outputs": []
    },
    {
      "cell_type": "code",
      "source": [
        "R = muestra.max() - muestra.min() #Cálculo del rango\n",
        "\n",
        "K = (1+ 3.332 * np.log10(n)) #Calculo de la cantida de intervalos\n",
        "if int(K) % 2 != 0: K = int(K) #Condicional para volverlo el impar más cercano al resultado\n",
        "else: K = int(K)+1\n",
        "\n",
        "A = (R/K).round(3) #Cálculo del amplitud del intervalo redondeado\n",
        "\n",
        "print(f'Rango (R): {R}',f'Intérvalos (K): {K}',f'Amplitud (A): {A}')"
      ],
      "metadata": {
        "colab": {
          "base_uri": "https://localhost:8080/"
        },
        "id": "onAlTxNFxXXp",
        "outputId": "256e3e3e-b8d4-472a-98d9-ec7868fd947e"
      },
      "execution_count": null,
      "outputs": [
        {
          "output_type": "stream",
          "name": "stdout",
          "text": [
            "Rango (R): 49 Intérvalos (K): 11 Amplitud (A): 4.455\n"
          ]
        }
      ]
    },
    {
      "cell_type": "markdown",
      "source": [
        "---\n",
        "**Tabla**"
      ],
      "metadata": {
        "id": "62aDIFXi2pbZ"
      }
    },
    {
      "cell_type": "code",
      "source": [
        "rangos_muestra = [] #Array de rangos en entero\n",
        "rangos_muestra_str = [] #Array de rangos en string\n",
        "X = muestra.min()\n",
        "\n",
        "for i in range(K): # Ciclo para agregar los rangos a los arreglos empezano por el mínimo de la muestra\n",
        " rangos_muestra.append([int(X.round(0)), int((X+A).round(0))])\n",
        " rangos_muestra_str.append(f'{int(X.round(0))} - {int((X+A).round(0))}')\n",
        " X+=A #Se le suma el rango para iniciar con ese valor el siguiente rango\n",
        "\n",
        "print('rango de muestras:',rangos_muestra_str)"
      ],
      "metadata": {
        "colab": {
          "base_uri": "https://localhost:8080/"
        },
        "id": "-0OUvc6Dzs1x",
        "outputId": "71039958-a4f5-4b1d-abc9-82e8717bdf64"
      },
      "execution_count": null,
      "outputs": [
        {
          "output_type": "stream",
          "name": "stdout",
          "text": [
            "rango de muestras: ['1 - 5', '5 - 10', '10 - 14', '14 - 19', '19 - 23', '23 - 28', '28 - 32', '32 - 37', '37 - 41', '41 - 46', '46 - 50']\n"
          ]
        }
      ]
    },
    {
      "cell_type": "code",
      "source": [
        "marca_clases = [] #Arreglo para guardar las marcas de clase (x)\n",
        "\n",
        "for i in rangos_muestra:\n",
        "  marca_clases.append((i[0]+i[1])/2) #Es la suma de los valores del rango / 2\n",
        "\n",
        "print('marca de clase (x):',marca_clases)"
      ],
      "metadata": {
        "colab": {
          "base_uri": "https://localhost:8080/"
        },
        "id": "qAnOb8gjz5BG",
        "outputId": "8d5a653d-393b-410a-d00a-8fab0fa5098e"
      },
      "execution_count": null,
      "outputs": [
        {
          "output_type": "stream",
          "name": "stdout",
          "text": [
            "marca de clase (x): [3.0, 7.5, 12.0, 16.5, 21.0, 25.5, 30.0, 34.5, 39.0, 43.5, 48.0]\n"
          ]
        }
      ]
    },
    {
      "cell_type": "code",
      "source": [
        "frecuencia = [] # Arreglo para guardar la frecuencia en que aparecen los números de cada rango\n",
        "\n",
        "for i in rangos_muestra: #itera los elementos de los rangos de la muestra\n",
        "  count = 0\n",
        "\n",
        "  if i == rangos_muestra[K-1]: # Para tomar el último número dentro de la frecuencia\n",
        "    for j in range (i[0],i[1]+1):\n",
        "      count+=len(np.where(muestra == j)[0])\n",
        "\n",
        "  else:\n",
        "    for j in range(i[0],i[1]):# Itera en el rango actual\n",
        "      #con el número del rango que se está estudiando se usa la función where de numpy para determinar los index donde está ese número y se le suma el length al contador\n",
        "      count+=len(np.where(muestra == j)[0])\n",
        "\n",
        "  frecuencia.append(count) #Se agrega el número final del contador en este ciclo, al arreglo frecuencia\n",
        "\n",
        "print(f'frecuencias (f): {frecuencia}')"
      ],
      "metadata": {
        "colab": {
          "base_uri": "https://localhost:8080/"
        },
        "id": "4iY5wrya1MTJ",
        "outputId": "9ac55ac3-e1c2-4c45-a2e0-125e6af75444"
      },
      "execution_count": null,
      "outputs": [
        {
          "output_type": "stream",
          "name": "stdout",
          "text": [
            "frecuencias (f): [73, 111, 87, 94, 99, 99, 75, 95, 71, 99, 97]\n"
          ]
        }
      ]
    },
    {
      "cell_type": "code",
      "source": [
        "frecuencia_relativa = [] #Arreglo para guardar la frecuencia relativa\n",
        "\n",
        "for i in frecuencia:\n",
        "  frecuencia_relativa.append(round(i/n,3))\n",
        "\n",
        "print(f'frecuencias relativas (fr): {frecuencia_relativa}')"
      ],
      "metadata": {
        "colab": {
          "base_uri": "https://localhost:8080/"
        },
        "id": "i7O3qqr01ddx",
        "outputId": "3272478a-e4e0-41be-8966-be3d95eeef53"
      },
      "execution_count": null,
      "outputs": [
        {
          "output_type": "stream",
          "name": "stdout",
          "text": [
            "frecuencias relativas (fr): [0.073, 0.111, 0.087, 0.094, 0.099, 0.099, 0.075, 0.095, 0.071, 0.099, 0.097]\n"
          ]
        }
      ]
    },
    {
      "cell_type": "code",
      "source": [
        "frecuencia_acumulada = [] #Arreglo para guardar la frecuencia acumulada de cada rango\n",
        "\n",
        "count=0\n",
        "for i in frecuencia:\n",
        "  count+=i\n",
        "  frecuencia_acumulada.append(count)\n",
        "\n",
        "print(f'frecuencia acumulada (F): {frecuencia_acumulada}')"
      ],
      "metadata": {
        "colab": {
          "base_uri": "https://localhost:8080/"
        },
        "id": "e28geTpg1oVZ",
        "outputId": "24465f33-c984-47f3-cd42-e5e1191d6950"
      },
      "execution_count": null,
      "outputs": [
        {
          "output_type": "stream",
          "name": "stdout",
          "text": [
            "frecuencia acumulada (F): [73, 184, 271, 365, 464, 563, 638, 733, 804, 903, 1000]\n"
          ]
        }
      ]
    },
    {
      "cell_type": "markdown",
      "source": [
        "---\n",
        "**Mostrar tabla**"
      ],
      "metadata": {
        "id": "5mMnU8f4MBL8"
      }
    },
    {
      "cell_type": "code",
      "source": [
        "import pandas as pd\n",
        "tabla = (['Rango','x','f','fr','F']) #Arreglo para guardar la información de la tabla que se va a mostrar en el csv\n",
        "\n",
        "resultados = np.array([rangos_muestra_str,#Arreglo que contiene los demás arreglos con los resultados\n",
        "                       marca_clases, frecuencia,\n",
        "                       frecuencia_relativa,\n",
        "                       frecuencia_acumulada])\n",
        "\n",
        "#Se hace un dataframe con pandas para visualizar los datos en una tabla\n",
        "#donde el array tabla contiene los nombres de las columnas y la variable resultados, los datos de las mismas\n",
        "\n",
        "visualizar = pd.DataFrame(columns = tabla, data = np.transpose(resultados))#Aquí lo hacemos con los parámetros columns y data\n",
        "print('Por parpametros (columns, data)\\n',visualizar)\n",
        "\n",
        "x = pd.DataFrame(dict(zip(tabla,resultados))) #Aquí lo hacemos pasándole directamente un diccionario\n",
        "print('\\nCon un diccionario')\n",
        "x"
      ],
      "metadata": {
        "colab": {
          "base_uri": "https://localhost:8080/",
          "height": 655
        },
        "id": "351CsSUkNqv6",
        "outputId": "19d85101-c6c6-49bd-b07d-f68f8ab58e65"
      },
      "execution_count": null,
      "outputs": [
        {
          "output_type": "stream",
          "name": "stdout",
          "text": [
            "Por parpametros (columns, data)\n",
            "       Rango     x    f     fr     F\n",
            "0     1 - 5   3.0   73  0.073    73\n",
            "1    5 - 10   7.5  111  0.111   184\n",
            "2   10 - 14  12.0   87  0.087   271\n",
            "3   14 - 19  16.5   94  0.094   365\n",
            "4   19 - 23  21.0   99  0.099   464\n",
            "5   23 - 28  25.5   99  0.099   563\n",
            "6   28 - 32  30.0   75  0.075   638\n",
            "7   32 - 37  34.5   95  0.095   733\n",
            "8   37 - 41  39.0   71  0.071   804\n",
            "9   41 - 46  43.5   99  0.099   903\n",
            "10  46 - 50  48.0   97  0.097  1000\n",
            "\n",
            "Con un diccionario\n"
          ]
        },
        {
          "output_type": "execute_result",
          "data": {
            "text/plain": [
              "      Rango     x    f     fr     F\n",
              "0     1 - 5   3.0   73  0.073    73\n",
              "1    5 - 10   7.5  111  0.111   184\n",
              "2   10 - 14  12.0   87  0.087   271\n",
              "3   14 - 19  16.5   94  0.094   365\n",
              "4   19 - 23  21.0   99  0.099   464\n",
              "5   23 - 28  25.5   99  0.099   563\n",
              "6   28 - 32  30.0   75  0.075   638\n",
              "7   32 - 37  34.5   95  0.095   733\n",
              "8   37 - 41  39.0   71  0.071   804\n",
              "9   41 - 46  43.5   99  0.099   903\n",
              "10  46 - 50  48.0   97  0.097  1000"
            ],
            "text/html": [
              "\n",
              "  <div id=\"df-3b6732bd-8fed-4e5a-8ecb-e5266fcaa33a\" class=\"colab-df-container\">\n",
              "    <div>\n",
              "<style scoped>\n",
              "    .dataframe tbody tr th:only-of-type {\n",
              "        vertical-align: middle;\n",
              "    }\n",
              "\n",
              "    .dataframe tbody tr th {\n",
              "        vertical-align: top;\n",
              "    }\n",
              "\n",
              "    .dataframe thead th {\n",
              "        text-align: right;\n",
              "    }\n",
              "</style>\n",
              "<table border=\"1\" class=\"dataframe\">\n",
              "  <thead>\n",
              "    <tr style=\"text-align: right;\">\n",
              "      <th></th>\n",
              "      <th>Rango</th>\n",
              "      <th>x</th>\n",
              "      <th>f</th>\n",
              "      <th>fr</th>\n",
              "      <th>F</th>\n",
              "    </tr>\n",
              "  </thead>\n",
              "  <tbody>\n",
              "    <tr>\n",
              "      <th>0</th>\n",
              "      <td>1 - 5</td>\n",
              "      <td>3.0</td>\n",
              "      <td>73</td>\n",
              "      <td>0.073</td>\n",
              "      <td>73</td>\n",
              "    </tr>\n",
              "    <tr>\n",
              "      <th>1</th>\n",
              "      <td>5 - 10</td>\n",
              "      <td>7.5</td>\n",
              "      <td>111</td>\n",
              "      <td>0.111</td>\n",
              "      <td>184</td>\n",
              "    </tr>\n",
              "    <tr>\n",
              "      <th>2</th>\n",
              "      <td>10 - 14</td>\n",
              "      <td>12.0</td>\n",
              "      <td>87</td>\n",
              "      <td>0.087</td>\n",
              "      <td>271</td>\n",
              "    </tr>\n",
              "    <tr>\n",
              "      <th>3</th>\n",
              "      <td>14 - 19</td>\n",
              "      <td>16.5</td>\n",
              "      <td>94</td>\n",
              "      <td>0.094</td>\n",
              "      <td>365</td>\n",
              "    </tr>\n",
              "    <tr>\n",
              "      <th>4</th>\n",
              "      <td>19 - 23</td>\n",
              "      <td>21.0</td>\n",
              "      <td>99</td>\n",
              "      <td>0.099</td>\n",
              "      <td>464</td>\n",
              "    </tr>\n",
              "    <tr>\n",
              "      <th>5</th>\n",
              "      <td>23 - 28</td>\n",
              "      <td>25.5</td>\n",
              "      <td>99</td>\n",
              "      <td>0.099</td>\n",
              "      <td>563</td>\n",
              "    </tr>\n",
              "    <tr>\n",
              "      <th>6</th>\n",
              "      <td>28 - 32</td>\n",
              "      <td>30.0</td>\n",
              "      <td>75</td>\n",
              "      <td>0.075</td>\n",
              "      <td>638</td>\n",
              "    </tr>\n",
              "    <tr>\n",
              "      <th>7</th>\n",
              "      <td>32 - 37</td>\n",
              "      <td>34.5</td>\n",
              "      <td>95</td>\n",
              "      <td>0.095</td>\n",
              "      <td>733</td>\n",
              "    </tr>\n",
              "    <tr>\n",
              "      <th>8</th>\n",
              "      <td>37 - 41</td>\n",
              "      <td>39.0</td>\n",
              "      <td>71</td>\n",
              "      <td>0.071</td>\n",
              "      <td>804</td>\n",
              "    </tr>\n",
              "    <tr>\n",
              "      <th>9</th>\n",
              "      <td>41 - 46</td>\n",
              "      <td>43.5</td>\n",
              "      <td>99</td>\n",
              "      <td>0.099</td>\n",
              "      <td>903</td>\n",
              "    </tr>\n",
              "    <tr>\n",
              "      <th>10</th>\n",
              "      <td>46 - 50</td>\n",
              "      <td>48.0</td>\n",
              "      <td>97</td>\n",
              "      <td>0.097</td>\n",
              "      <td>1000</td>\n",
              "    </tr>\n",
              "  </tbody>\n",
              "</table>\n",
              "</div>\n",
              "    <div class=\"colab-df-buttons\">\n",
              "\n",
              "  <div class=\"colab-df-container\">\n",
              "    <button class=\"colab-df-convert\" onclick=\"convertToInteractive('df-3b6732bd-8fed-4e5a-8ecb-e5266fcaa33a')\"\n",
              "            title=\"Convert this dataframe to an interactive table.\"\n",
              "            style=\"display:none;\">\n",
              "\n",
              "  <svg xmlns=\"http://www.w3.org/2000/svg\" height=\"24px\" viewBox=\"0 -960 960 960\">\n",
              "    <path d=\"M120-120v-720h720v720H120Zm60-500h600v-160H180v160Zm220 220h160v-160H400v160Zm0 220h160v-160H400v160ZM180-400h160v-160H180v160Zm440 0h160v-160H620v160ZM180-180h160v-160H180v160Zm440 0h160v-160H620v160Z\"/>\n",
              "  </svg>\n",
              "    </button>\n",
              "\n",
              "  <style>\n",
              "    .colab-df-container {\n",
              "      display:flex;\n",
              "      gap: 12px;\n",
              "    }\n",
              "\n",
              "    .colab-df-convert {\n",
              "      background-color: #E8F0FE;\n",
              "      border: none;\n",
              "      border-radius: 50%;\n",
              "      cursor: pointer;\n",
              "      display: none;\n",
              "      fill: #1967D2;\n",
              "      height: 32px;\n",
              "      padding: 0 0 0 0;\n",
              "      width: 32px;\n",
              "    }\n",
              "\n",
              "    .colab-df-convert:hover {\n",
              "      background-color: #E2EBFA;\n",
              "      box-shadow: 0px 1px 2px rgba(60, 64, 67, 0.3), 0px 1px 3px 1px rgba(60, 64, 67, 0.15);\n",
              "      fill: #174EA6;\n",
              "    }\n",
              "\n",
              "    .colab-df-buttons div {\n",
              "      margin-bottom: 4px;\n",
              "    }\n",
              "\n",
              "    [theme=dark] .colab-df-convert {\n",
              "      background-color: #3B4455;\n",
              "      fill: #D2E3FC;\n",
              "    }\n",
              "\n",
              "    [theme=dark] .colab-df-convert:hover {\n",
              "      background-color: #434B5C;\n",
              "      box-shadow: 0px 1px 3px 1px rgba(0, 0, 0, 0.15);\n",
              "      filter: drop-shadow(0px 1px 2px rgba(0, 0, 0, 0.3));\n",
              "      fill: #FFFFFF;\n",
              "    }\n",
              "  </style>\n",
              "\n",
              "    <script>\n",
              "      const buttonEl =\n",
              "        document.querySelector('#df-3b6732bd-8fed-4e5a-8ecb-e5266fcaa33a button.colab-df-convert');\n",
              "      buttonEl.style.display =\n",
              "        google.colab.kernel.accessAllowed ? 'block' : 'none';\n",
              "\n",
              "      async function convertToInteractive(key) {\n",
              "        const element = document.querySelector('#df-3b6732bd-8fed-4e5a-8ecb-e5266fcaa33a');\n",
              "        const dataTable =\n",
              "          await google.colab.kernel.invokeFunction('convertToInteractive',\n",
              "                                                    [key], {});\n",
              "        if (!dataTable) return;\n",
              "\n",
              "        const docLinkHtml = 'Like what you see? Visit the ' +\n",
              "          '<a target=\"_blank\" href=https://colab.research.google.com/notebooks/data_table.ipynb>data table notebook</a>'\n",
              "          + ' to learn more about interactive tables.';\n",
              "        element.innerHTML = '';\n",
              "        dataTable['output_type'] = 'display_data';\n",
              "        await google.colab.output.renderOutput(dataTable, element);\n",
              "        const docLink = document.createElement('div');\n",
              "        docLink.innerHTML = docLinkHtml;\n",
              "        element.appendChild(docLink);\n",
              "      }\n",
              "    </script>\n",
              "  </div>\n",
              "\n",
              "\n",
              "<div id=\"df-1c5763e9-f418-4f11-902c-c2d10c7eed91\">\n",
              "  <button class=\"colab-df-quickchart\" onclick=\"quickchart('df-1c5763e9-f418-4f11-902c-c2d10c7eed91')\"\n",
              "            title=\"Suggest charts\"\n",
              "            style=\"display:none;\">\n",
              "\n",
              "<svg xmlns=\"http://www.w3.org/2000/svg\" height=\"24px\"viewBox=\"0 0 24 24\"\n",
              "     width=\"24px\">\n",
              "    <g>\n",
              "        <path d=\"M19 3H5c-1.1 0-2 .9-2 2v14c0 1.1.9 2 2 2h14c1.1 0 2-.9 2-2V5c0-1.1-.9-2-2-2zM9 17H7v-7h2v7zm4 0h-2V7h2v10zm4 0h-2v-4h2v4z\"/>\n",
              "    </g>\n",
              "</svg>\n",
              "  </button>\n",
              "\n",
              "<style>\n",
              "  .colab-df-quickchart {\n",
              "      --bg-color: #E8F0FE;\n",
              "      --fill-color: #1967D2;\n",
              "      --hover-bg-color: #E2EBFA;\n",
              "      --hover-fill-color: #174EA6;\n",
              "      --disabled-fill-color: #AAA;\n",
              "      --disabled-bg-color: #DDD;\n",
              "  }\n",
              "\n",
              "  [theme=dark] .colab-df-quickchart {\n",
              "      --bg-color: #3B4455;\n",
              "      --fill-color: #D2E3FC;\n",
              "      --hover-bg-color: #434B5C;\n",
              "      --hover-fill-color: #FFFFFF;\n",
              "      --disabled-bg-color: #3B4455;\n",
              "      --disabled-fill-color: #666;\n",
              "  }\n",
              "\n",
              "  .colab-df-quickchart {\n",
              "    background-color: var(--bg-color);\n",
              "    border: none;\n",
              "    border-radius: 50%;\n",
              "    cursor: pointer;\n",
              "    display: none;\n",
              "    fill: var(--fill-color);\n",
              "    height: 32px;\n",
              "    padding: 0;\n",
              "    width: 32px;\n",
              "  }\n",
              "\n",
              "  .colab-df-quickchart:hover {\n",
              "    background-color: var(--hover-bg-color);\n",
              "    box-shadow: 0 1px 2px rgba(60, 64, 67, 0.3), 0 1px 3px 1px rgba(60, 64, 67, 0.15);\n",
              "    fill: var(--button-hover-fill-color);\n",
              "  }\n",
              "\n",
              "  .colab-df-quickchart-complete:disabled,\n",
              "  .colab-df-quickchart-complete:disabled:hover {\n",
              "    background-color: var(--disabled-bg-color);\n",
              "    fill: var(--disabled-fill-color);\n",
              "    box-shadow: none;\n",
              "  }\n",
              "\n",
              "  .colab-df-spinner {\n",
              "    border: 2px solid var(--fill-color);\n",
              "    border-color: transparent;\n",
              "    border-bottom-color: var(--fill-color);\n",
              "    animation:\n",
              "      spin 1s steps(1) infinite;\n",
              "  }\n",
              "\n",
              "  @keyframes spin {\n",
              "    0% {\n",
              "      border-color: transparent;\n",
              "      border-bottom-color: var(--fill-color);\n",
              "      border-left-color: var(--fill-color);\n",
              "    }\n",
              "    20% {\n",
              "      border-color: transparent;\n",
              "      border-left-color: var(--fill-color);\n",
              "      border-top-color: var(--fill-color);\n",
              "    }\n",
              "    30% {\n",
              "      border-color: transparent;\n",
              "      border-left-color: var(--fill-color);\n",
              "      border-top-color: var(--fill-color);\n",
              "      border-right-color: var(--fill-color);\n",
              "    }\n",
              "    40% {\n",
              "      border-color: transparent;\n",
              "      border-right-color: var(--fill-color);\n",
              "      border-top-color: var(--fill-color);\n",
              "    }\n",
              "    60% {\n",
              "      border-color: transparent;\n",
              "      border-right-color: var(--fill-color);\n",
              "    }\n",
              "    80% {\n",
              "      border-color: transparent;\n",
              "      border-right-color: var(--fill-color);\n",
              "      border-bottom-color: var(--fill-color);\n",
              "    }\n",
              "    90% {\n",
              "      border-color: transparent;\n",
              "      border-bottom-color: var(--fill-color);\n",
              "    }\n",
              "  }\n",
              "</style>\n",
              "\n",
              "  <script>\n",
              "    async function quickchart(key) {\n",
              "      const quickchartButtonEl =\n",
              "        document.querySelector('#' + key + ' button');\n",
              "      quickchartButtonEl.disabled = true;  // To prevent multiple clicks.\n",
              "      quickchartButtonEl.classList.add('colab-df-spinner');\n",
              "      try {\n",
              "        const charts = await google.colab.kernel.invokeFunction(\n",
              "            'suggestCharts', [key], {});\n",
              "      } catch (error) {\n",
              "        console.error('Error during call to suggestCharts:', error);\n",
              "      }\n",
              "      quickchartButtonEl.classList.remove('colab-df-spinner');\n",
              "      quickchartButtonEl.classList.add('colab-df-quickchart-complete');\n",
              "    }\n",
              "    (() => {\n",
              "      let quickchartButtonEl =\n",
              "        document.querySelector('#df-1c5763e9-f418-4f11-902c-c2d10c7eed91 button');\n",
              "      quickchartButtonEl.style.display =\n",
              "        google.colab.kernel.accessAllowed ? 'block' : 'none';\n",
              "    })();\n",
              "  </script>\n",
              "</div>\n",
              "    </div>\n",
              "  </div>\n"
            ],
            "application/vnd.google.colaboratory.intrinsic+json": {
              "type": "dataframe",
              "variable_name": "x",
              "summary": "{\n  \"name\": \"x\",\n  \"rows\": 11,\n  \"fields\": [\n    {\n      \"column\": \"Rango\",\n      \"properties\": {\n        \"dtype\": \"string\",\n        \"num_unique_values\": 11,\n        \"samples\": [\n          \"23 - 28\",\n          \"1 - 5\",\n          \"41 - 46\"\n        ],\n        \"semantic_type\": \"\",\n        \"description\": \"\"\n      }\n    },\n    {\n      \"column\": \"x\",\n      \"properties\": {\n        \"dtype\": \"string\",\n        \"num_unique_values\": 11,\n        \"samples\": [\n          \"25.5\",\n          \"3.0\",\n          \"43.5\"\n        ],\n        \"semantic_type\": \"\",\n        \"description\": \"\"\n      }\n    },\n    {\n      \"column\": \"f\",\n      \"properties\": {\n        \"dtype\": \"string\",\n        \"num_unique_values\": 9,\n        \"samples\": [\n          \"71\",\n          \"111\",\n          \"75\"\n        ],\n        \"semantic_type\": \"\",\n        \"description\": \"\"\n      }\n    },\n    {\n      \"column\": \"fr\",\n      \"properties\": {\n        \"dtype\": \"string\",\n        \"num_unique_values\": 9,\n        \"samples\": [\n          \"0.071\",\n          \"0.111\",\n          \"0.075\"\n        ],\n        \"semantic_type\": \"\",\n        \"description\": \"\"\n      }\n    },\n    {\n      \"column\": \"F\",\n      \"properties\": {\n        \"dtype\": \"string\",\n        \"num_unique_values\": 11,\n        \"samples\": [\n          \"563\",\n          \"73\",\n          \"903\"\n        ],\n        \"semantic_type\": \"\",\n        \"description\": \"\"\n      }\n    }\n  ]\n}"
            }
          },
          "metadata": {},
          "execution_count": 33
        }
      ]
    },
    {
      "cell_type": "code",
      "source": [
        "f'fr total = {sum(frecuencia_relativa)}'"
      ],
      "metadata": {
        "colab": {
          "base_uri": "https://localhost:8080/",
          "height": 35
        },
        "id": "MBoQb06gdOSB",
        "outputId": "1aa8edb9-8066-43ac-a871-048c6f23a524"
      },
      "execution_count": null,
      "outputs": [
        {
          "output_type": "execute_result",
          "data": {
            "text/plain": [
              "'fr total = 0.9999999999999999'"
            ],
            "application/vnd.google.colaboratory.intrinsic+json": {
              "type": "string"
            }
          },
          "metadata": {},
          "execution_count": 83
        }
      ]
    },
    {
      "cell_type": "code",
      "source": [
        "# tabla = (['Rangos'],['x'],['f'],['fr'],['F']) #Arreglo para guardar la información de la tabla que se va a mostrar en el csv\n",
        "\n",
        "# resultados = np.array([rangos_muestra_str, #Arreglo que contiene los demás arreglos con los resultados\n",
        "#                        marca_clases, frecuencia,\n",
        "#                        frecuencia_relativa,\n",
        "#                        frecuencia_acumulada])\n",
        "\n",
        "# for i in range(5): #Se usa el método extend para agregar al arreglo tabla la información de cada arreglo de los resultados\n",
        "#   tabla[i].extend(resultados[i])\n",
        "#   print(tabla[i])\n",
        "# #No se usa append porque eso añade el arreglo entero, en cambio extend añade cada uno de los elementos del arreglo"
      ],
      "metadata": {
        "id": "Wdd8VlDhIpBb"
      },
      "execution_count": null,
      "outputs": []
    },
    {
      "cell_type": "code",
      "source": [
        "# import csv\n",
        "# #Se crea un csv con la transpuesta de\n",
        "# with open('Tabla de frecuencias.csv', 'w') as f:\n",
        "#   w = csv.writer(f)\n",
        "#   w.writerows(np.transpose(tabla))"
      ],
      "metadata": {
        "id": "xydn9fy8BQiV"
      },
      "execution_count": null,
      "outputs": []
    },
    {
      "cell_type": "markdown",
      "source": [
        "***Cosas aprendidas***\n",
        "\n",
        "- **arr.extend(arr)** -> Funciona como append pero añade elemento por elemento del arreglo, en vez de todo el arreglo como un solo elemento\n",
        "\n",
        "\n",
        "- **np.transpose(matriz)** -> Se puede usar para transponer una matriz y que las filas se vuelvan columnas\n",
        "\n",
        "---\n",
        "***Cosas por aprender***\n",
        "\n",
        "- Contar la cantidad de veces que aparecen los número de un rango, dentro de un array de números\n",
        "\n",
        "- Uso de diccionarios"
      ],
      "metadata": {
        "id": "nwbqZg_0Vqhb"
      }
    },
    {
      "cell_type": "markdown",
      "source": [
        "# Varianza, Desviación estandar y coeficiente de variacion"
      ],
      "metadata": {
        "id": "_EyUtPDf5yuh"
      }
    },
    {
      "cell_type": "code",
      "source": [
        "import numpy as np\n",
        "\n",
        "n=30 #Tamaño de la muestra o población\n",
        "es_muestra = False #Los valores son de una muestra?\n",
        "f = np.array([7, 9, 12, 2]) #Frecuencia del intervalo\n",
        "K = len(f) #Número de intervalos\n",
        "A = 5 #Amplitud de los intervalos\n",
        "p_i = [10,15] #Primer intervalo\n",
        "\n",
        "x = np.empty(K) #Array marcas de clase\n",
        "for i in range (K):#Se llena el arrey marcas de clase\n",
        "  x[i] = ((p_i[0]+p_i[1])/2)+i*(p_i[1]-p_i[0])\n",
        "\n",
        "print(x)"
      ],
      "metadata": {
        "colab": {
          "base_uri": "https://localhost:8080/"
        },
        "id": "_7SLBxCQ5RTA",
        "outputId": "5fee330f-b36f-462a-a332-eaa22e86396e"
      },
      "execution_count": null,
      "outputs": [
        {
          "output_type": "stream",
          "name": "stdout",
          "text": [
            "[12.5 17.5 22.5 27.5]\n"
          ]
        }
      ]
    },
    {
      "cell_type": "code",
      "source": [
        "#media\n",
        "media = sum(x*f)/n\n",
        "print(f'Media = {media}')\n",
        "\n",
        "#Varianza\n",
        "varianza = sum(((x-media)**2)*f)/n-es_muestra\n",
        "print(f'Varianza = {varianza}')\n",
        "#Desviación estándar\n",
        "print(f'Desviación estandar = {np.sqrt(varianza)}')\n",
        "\n",
        "#Coeficiente de variación\n",
        "coeficiente_variacion = (np.sqrt(varianza)/media)*100\n",
        "print(f'Coeficiente de variación = {coeficiente_variacion}%')"
      ],
      "metadata": {
        "colab": {
          "base_uri": "https://localhost:8080/"
        },
        "id": "aRq4wPHqnzwg",
        "outputId": "c639bfc1-375f-4cd5-8294-35aaade81e3d"
      },
      "execution_count": null,
      "outputs": [
        {
          "output_type": "stream",
          "name": "stdout",
          "text": [
            "Media = 19.0\n",
            "Varianza = 20.25\n",
            "Desviación estandar = 4.5\n",
            "Coeficiente de variación = 23.684210526315788%\n"
          ]
        }
      ]
    },
    {
      "cell_type": "code",
      "source": [],
      "metadata": {
        "id": "yA2mxPaF_zCa"
      },
      "execution_count": null,
      "outputs": []
    }
  ]
}